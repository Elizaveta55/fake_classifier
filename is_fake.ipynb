{
  "cells": [
    {
      "cell_type": "code",
      "source": [
        "!unzip nlp_test_task_2022.zip"
      ],
      "metadata": {
        "id": "pHja-h7l3CBl"
      },
      "execution_count": null,
      "outputs": []
    },
    {
      "cell_type": "code",
      "execution_count": null,
      "metadata": {
        "id": "fNxrnxOQ9o06"
      },
      "outputs": [],
      "source": [
        "!pip install lazypredict transformers tensorflow_text"
      ]
    },
    {
      "cell_type": "code",
      "execution_count": null,
      "metadata": {
        "id": "wWcwmXID2aJz"
      },
      "outputs": [],
      "source": [
        "import pandas as pd\n",
        "\n",
        "data = pd.read_table('dataset/train.tsv')"
      ]
    },
    {
      "cell_type": "code",
      "source": [
        "from sklearn.metrics import log_loss, f1_score, roc_curve, auc\n",
        "from sklearn.metrics import accuracy_score, classification_report, confusion_matrix"
      ],
      "metadata": {
        "id": "xP4uY-X_Q7Dw"
      },
      "execution_count": null,
      "outputs": []
    },
    {
      "cell_type": "code",
      "source": [
        "data.describe()"
      ],
      "metadata": {
        "colab": {
          "base_uri": "https://localhost:8080/",
          "height": 300
        },
        "id": "mF_GCzJl3t8s",
        "outputId": "11516c35-26d0-42d4-9601-185505b3db31"
      },
      "execution_count": null,
      "outputs": [
        {
          "output_type": "execute_result",
          "data": {
            "text/plain": [
              "           is_fake\n",
              "count  5758.000000\n",
              "mean      0.500000\n",
              "std       0.500043\n",
              "min       0.000000\n",
              "25%       0.000000\n",
              "50%       0.500000\n",
              "75%       1.000000\n",
              "max       1.000000"
            ],
            "text/html": [
              "\n",
              "  <div id=\"df-33e514e8-fcbb-41bd-8e96-663c48118c66\">\n",
              "    <div class=\"colab-df-container\">\n",
              "      <div>\n",
              "<style scoped>\n",
              "    .dataframe tbody tr th:only-of-type {\n",
              "        vertical-align: middle;\n",
              "    }\n",
              "\n",
              "    .dataframe tbody tr th {\n",
              "        vertical-align: top;\n",
              "    }\n",
              "\n",
              "    .dataframe thead th {\n",
              "        text-align: right;\n",
              "    }\n",
              "</style>\n",
              "<table border=\"1\" class=\"dataframe\">\n",
              "  <thead>\n",
              "    <tr style=\"text-align: right;\">\n",
              "      <th></th>\n",
              "      <th>is_fake</th>\n",
              "    </tr>\n",
              "  </thead>\n",
              "  <tbody>\n",
              "    <tr>\n",
              "      <th>count</th>\n",
              "      <td>5758.000000</td>\n",
              "    </tr>\n",
              "    <tr>\n",
              "      <th>mean</th>\n",
              "      <td>0.500000</td>\n",
              "    </tr>\n",
              "    <tr>\n",
              "      <th>std</th>\n",
              "      <td>0.500043</td>\n",
              "    </tr>\n",
              "    <tr>\n",
              "      <th>min</th>\n",
              "      <td>0.000000</td>\n",
              "    </tr>\n",
              "    <tr>\n",
              "      <th>25%</th>\n",
              "      <td>0.000000</td>\n",
              "    </tr>\n",
              "    <tr>\n",
              "      <th>50%</th>\n",
              "      <td>0.500000</td>\n",
              "    </tr>\n",
              "    <tr>\n",
              "      <th>75%</th>\n",
              "      <td>1.000000</td>\n",
              "    </tr>\n",
              "    <tr>\n",
              "      <th>max</th>\n",
              "      <td>1.000000</td>\n",
              "    </tr>\n",
              "  </tbody>\n",
              "</table>\n",
              "</div>\n",
              "      <button class=\"colab-df-convert\" onclick=\"convertToInteractive('df-33e514e8-fcbb-41bd-8e96-663c48118c66')\"\n",
              "              title=\"Convert this dataframe to an interactive table.\"\n",
              "              style=\"display:none;\">\n",
              "        \n",
              "  <svg xmlns=\"http://www.w3.org/2000/svg\" height=\"24px\"viewBox=\"0 0 24 24\"\n",
              "       width=\"24px\">\n",
              "    <path d=\"M0 0h24v24H0V0z\" fill=\"none\"/>\n",
              "    <path d=\"M18.56 5.44l.94 2.06.94-2.06 2.06-.94-2.06-.94-.94-2.06-.94 2.06-2.06.94zm-11 1L8.5 8.5l.94-2.06 2.06-.94-2.06-.94L8.5 2.5l-.94 2.06-2.06.94zm10 10l.94 2.06.94-2.06 2.06-.94-2.06-.94-.94-2.06-.94 2.06-2.06.94z\"/><path d=\"M17.41 7.96l-1.37-1.37c-.4-.4-.92-.59-1.43-.59-.52 0-1.04.2-1.43.59L10.3 9.45l-7.72 7.72c-.78.78-.78 2.05 0 2.83L4 21.41c.39.39.9.59 1.41.59.51 0 1.02-.2 1.41-.59l7.78-7.78 2.81-2.81c.8-.78.8-2.07 0-2.86zM5.41 20L4 18.59l7.72-7.72 1.47 1.35L5.41 20z\"/>\n",
              "  </svg>\n",
              "      </button>\n",
              "      \n",
              "  <style>\n",
              "    .colab-df-container {\n",
              "      display:flex;\n",
              "      flex-wrap:wrap;\n",
              "      gap: 12px;\n",
              "    }\n",
              "\n",
              "    .colab-df-convert {\n",
              "      background-color: #E8F0FE;\n",
              "      border: none;\n",
              "      border-radius: 50%;\n",
              "      cursor: pointer;\n",
              "      display: none;\n",
              "      fill: #1967D2;\n",
              "      height: 32px;\n",
              "      padding: 0 0 0 0;\n",
              "      width: 32px;\n",
              "    }\n",
              "\n",
              "    .colab-df-convert:hover {\n",
              "      background-color: #E2EBFA;\n",
              "      box-shadow: 0px 1px 2px rgba(60, 64, 67, 0.3), 0px 1px 3px 1px rgba(60, 64, 67, 0.15);\n",
              "      fill: #174EA6;\n",
              "    }\n",
              "\n",
              "    [theme=dark] .colab-df-convert {\n",
              "      background-color: #3B4455;\n",
              "      fill: #D2E3FC;\n",
              "    }\n",
              "\n",
              "    [theme=dark] .colab-df-convert:hover {\n",
              "      background-color: #434B5C;\n",
              "      box-shadow: 0px 1px 3px 1px rgba(0, 0, 0, 0.15);\n",
              "      filter: drop-shadow(0px 1px 2px rgba(0, 0, 0, 0.3));\n",
              "      fill: #FFFFFF;\n",
              "    }\n",
              "  </style>\n",
              "\n",
              "      <script>\n",
              "        const buttonEl =\n",
              "          document.querySelector('#df-33e514e8-fcbb-41bd-8e96-663c48118c66 button.colab-df-convert');\n",
              "        buttonEl.style.display =\n",
              "          google.colab.kernel.accessAllowed ? 'block' : 'none';\n",
              "\n",
              "        async function convertToInteractive(key) {\n",
              "          const element = document.querySelector('#df-33e514e8-fcbb-41bd-8e96-663c48118c66');\n",
              "          const dataTable =\n",
              "            await google.colab.kernel.invokeFunction('convertToInteractive',\n",
              "                                                     [key], {});\n",
              "          if (!dataTable) return;\n",
              "\n",
              "          const docLinkHtml = 'Like what you see? Visit the ' +\n",
              "            '<a target=\"_blank\" href=https://colab.research.google.com/notebooks/data_table.ipynb>data table notebook</a>'\n",
              "            + ' to learn more about interactive tables.';\n",
              "          element.innerHTML = '';\n",
              "          dataTable['output_type'] = 'display_data';\n",
              "          await google.colab.output.renderOutput(dataTable, element);\n",
              "          const docLink = document.createElement('div');\n",
              "          docLink.innerHTML = docLinkHtml;\n",
              "          element.appendChild(docLink);\n",
              "        }\n",
              "      </script>\n",
              "    </div>\n",
              "  </div>\n",
              "  "
            ]
          },
          "metadata": {},
          "execution_count": 5
        }
      ]
    },
    {
      "cell_type": "code",
      "source": [
        "data.hist()"
      ],
      "metadata": {
        "colab": {
          "base_uri": "https://localhost:8080/",
          "height": 316
        },
        "id": "Pqr-70Kn37Za",
        "outputId": "bd2f209a-fa54-40fc-9a68-e33284212aa5"
      },
      "execution_count": null,
      "outputs": [
        {
          "output_type": "execute_result",
          "data": {
            "text/plain": [
              "array([[<matplotlib.axes._subplots.AxesSubplot object at 0x7febc6c57410>]],\n",
              "      dtype=object)"
            ]
          },
          "metadata": {},
          "execution_count": 6
        },
        {
          "output_type": "display_data",
          "data": {
            "text/plain": [
              "<Figure size 432x288 with 1 Axes>"
            ],
            "image/png": "[encoded data removed]"
          },
          "metadata": {
            "needs_background": "light"
          }
        }
      ]
    },
    {
      "cell_type": "markdown",
      "source": [
        "**Data is balanced** - that's great. \n",
        "\n",
        "Imbalanced might significantly affect on performance.\n",
        "\n",
        "\n",
        "\n",
        "---\n",
        "\n",
        "Let's check the amount of russian words:"
      ],
      "metadata": {
        "id": "TDac6N_24lWr"
      }
    },
    {
      "cell_type": "code",
      "source": [
        "from matplotlib import pyplot as plt\n",
        "\n",
        "lens = [len(sent.split(' ')) for sent in data['title']]\n",
        "\n",
        "plt.hist(lens)\n",
        "\n",
        "print(f'There are {sum(lens)} words and {sum(lens)//len(data)} per sentance in average')"
      ],
      "metadata": {
        "colab": {
          "base_uri": "https://localhost:8080/",
          "height": 282
        },
        "id": "rk83BcgsPI7C",
        "outputId": "f7b8ba5f-56c5-4459-87b5-48769d264ca7"
      },
      "execution_count": null,
      "outputs": [
        {
          "output_type": "stream",
          "name": "stdout",
          "text": [
            "There are 50237 words and 8 per sentance in average\n"
          ]
        },
        {
          "output_type": "display_data",
          "data": {
            "text/plain": [
              "<Figure size 432x288 with 1 Axes>"
            ],
            "image/png": "[encoded data removed]"
          },
          "metadata": {
            "needs_background": "light"
          }
        }
      ]
    },
    {
      "cell_type": "code",
      "source": [
        "import re\n",
        "\n",
        "r = re.compile(\"[а-яА-Я]+\")\n",
        "data_russian = []\n",
        "for sent in data['title']:\n",
        "  words = sent.split(' ')\n",
        "  words_russian = [word for word in filter(r.match, words)]\n",
        "  data_russian.append(words_russian)"
      ],
      "metadata": {
        "id": "8_G9nJQWQcIK"
      },
      "execution_count": null,
      "outputs": []
    },
    {
      "cell_type": "code",
      "source": [
        "from matplotlib import pyplot as plt\n",
        "from lazypredict.Supervised import LazyClassifier\n",
        "import numpy as np\n",
        "import pandas as pd\n",
        "\n",
        "lens_russian = [len(sent) for sent in data_russian]\n",
        "\n",
        "plt.hist(lens_russian)\n",
        "\n",
        "print(f'There are {sum(lens_russian)} words and {sum(lens_russian)//len(data)} per sentance in average')"
      ],
      "metadata": {
        "colab": {
          "base_uri": "https://localhost:8080/",
          "height": 282
        },
        "id": "oOxlsIapUORz",
        "outputId": "113fbdc1-10dd-4270-d8af-cffe47c923e8"
      },
      "execution_count": null,
      "outputs": [
        {
          "output_type": "stream",
          "name": "stdout",
          "text": [
            "There are 47051 words and 8 per sentance in average\n"
          ]
        },
        {
          "output_type": "display_data",
          "data": {
            "text/plain": [
              "<Figure size 432x288 with 1 Axes>"
            ],
            "image/png": "[encoded data removed]"
          },
          "metadata": {
            "needs_background": "light"
          }
        }
      ]
    },
    {
      "cell_type": "code",
      "source": [
        "print(f'% of non-russian words is {100*(sum(lens)-sum(lens_russian))//sum(lens)} %')"
      ],
      "metadata": {
        "colab": {
          "base_uri": "https://localhost:8080/"
        },
        "id": "YQjlLlisUp_F",
        "outputId": "84a49405-7485-4209-e9aa-4cacbe8bc0f0"
      },
      "execution_count": null,
      "outputs": [
        {
          "output_type": "stream",
          "name": "stdout",
          "text": [
            "% of non-russian words is 6 %\n"
          ]
        }
      ]
    },
    {
      "cell_type": "markdown",
      "source": [
        "---\n",
        "**Evaluation**\n",
        "\n"
      ],
      "metadata": {
        "id": "-DptTV9IX3rc"
      }
    },
    {
      "cell_type": "code",
      "execution_count": null,
      "metadata": {
        "id": "9OcPT6tSjmYr"
      },
      "outputs": [],
      "source": [
        "def eval(y_true, y_pred):\n",
        "    print('Classification Report:')\n",
        "    print(classification_report(y_true, y_pred, labels=[1,0], digits=4))\n",
        "    \n",
        "    cm = confusion_matrix(y_true, y_pred, labels=[1,0])\n",
        "    ax= plt.subplot()\n",
        "    sns.heatmap(cm, annot=True, ax = ax, cmap='Blues', fmt=\"d\")\n",
        "\n",
        "    ax.set_title('Confusion Matrix')\n",
        "\n",
        "    ax.set_xlabel('Predicted Labels')\n",
        "    ax.set_ylabel('True Labels')\n",
        "\n",
        "    ax.xaxis.set_ticklabels(['FAKE', 'REAL'])\n",
        "    ax.yaxis.set_ticklabels(['FAKE', 'REAL'])"
      ]
    },
    {
      "cell_type": "markdown",
      "metadata": {
        "id": "7up7XcRuGomB"
      },
      "source": [
        "# **Pipeline**\n",
        "\n",
        "Here we explore different options for classifiers for given dataset.\n",
        "1. Embedding choice: LaBSE VS SBERT\n",
        "2. Classifier: multiple general classifiers VS LSTM\n",
        "\n",
        "Different representation functions are needed to find the best one. LaBSE and SBERT have Russian models. \n",
        "Also model Doc2Vec was considered but it is supposed to be for English (therefore it was decided to check this model)\n",
        "\n",
        "Two types of classifiers are chosen because there is an assumption general classifiers are capable to learn how to distingush Real from Fake due to sufficient and informative representation model (=embeddings). LSTM is chosen to be compared with general classifiers to show that significant performance can be archived by lighter classifiers which are not computationally demanding."
      ]
    },
    {
      "cell_type": "code",
      "execution_count": null,
      "metadata": {
        "id": "n2nZ1SdZ50E_"
      },
      "outputs": [],
      "source": [
        "colnames_names = ['title', 'is_fake']\n",
        "test_data = pd.read_table('dataset/test.tsv')"
      ]
    },
    {
      "cell_type": "code",
      "execution_count": null,
      "metadata": {
        "colab": {
          "base_uri": "https://localhost:8080/",
          "height": 424
        },
        "id": "mDg2MGZ564b8",
        "outputId": "98a717ae-9139-4edf-f82e-fd919519afc6"
      },
      "outputs": [
        {
          "output_type": "execute_result",
          "data": {
            "text/plain": [
              "                                                 title  is_fake\n",
              "0    Роскомнадзор представил реестр сочетаний цвето...        0\n",
              "1    Ночью под Минском на президентской горе Белара...        0\n",
              "2    Бывший спичрайтер Юрия Лозы рассказал о трудно...        0\n",
              "3    Сельская церковь, собравшая рекордно низкое ко...        0\n",
              "4    Акции Google рухнули после объявления о переза...        0\n",
              "..                                                 ...      ...\n",
              "995  Прокуратура заподозрила Явлинского в авторитар...        0\n",
              "996  В День Победы стратегические ракетоносцы Ту-16...        0\n",
              "997  СК возбудил дело против авиакомпании «Победа» ...        0\n",
              "998  Криптомонетный двор Туркменистана выпустил юби...        0\n",
              "999  Deutsche Bahn заплатит рекордный штраф за чтен...        0\n",
              "\n",
              "[1000 rows x 2 columns]"
            ],
            "text/html": [
              "\n",
              "  <div id=\"df-57b99812-d6e7-48a6-bf16-30d599ebb0e4\">\n",
              "    <div class=\"colab-df-container\">\n",
              "      <div>\n",
              "<style scoped>\n",
              "    .dataframe tbody tr th:only-of-type {\n",
              "        vertical-align: middle;\n",
              "    }\n",
              "\n",
              "    .dataframe tbody tr th {\n",
              "        vertical-align: top;\n",
              "    }\n",
              "\n",
              "    .dataframe thead th {\n",
              "        text-align: right;\n",
              "    }\n",
              "</style>\n",
              "<table border=\"1\" class=\"dataframe\">\n",
              "  <thead>\n",
              "    <tr style=\"text-align: right;\">\n",
              "      <th></th>\n",
              "      <th>title</th>\n",
              "      <th>is_fake</th>\n",
              "    </tr>\n",
              "  </thead>\n",
              "  <tbody>\n",
              "    <tr>\n",
              "      <th>0</th>\n",
              "      <td>Роскомнадзор представил реестр сочетаний цвето...</td>\n",
              "      <td>0</td>\n",
              "    </tr>\n",
              "    <tr>\n",
              "      <th>1</th>\n",
              "      <td>Ночью под Минском на президентской горе Белара...</td>\n",
              "      <td>0</td>\n",
              "    </tr>\n",
              "    <tr>\n",
              "      <th>2</th>\n",
              "      <td>Бывший спичрайтер Юрия Лозы рассказал о трудно...</td>\n",
              "      <td>0</td>\n",
              "    </tr>\n",
              "    <tr>\n",
              "      <th>3</th>\n",
              "      <td>Сельская церковь, собравшая рекордно низкое ко...</td>\n",
              "      <td>0</td>\n",
              "    </tr>\n",
              "    <tr>\n",
              "      <th>4</th>\n",
              "      <td>Акции Google рухнули после объявления о переза...</td>\n",
              "      <td>0</td>\n",
              "    </tr>\n",
              "    <tr>\n",
              "      <th>...</th>\n",
              "      <td>...</td>\n",
              "      <td>...</td>\n",
              "    </tr>\n",
              "    <tr>\n",
              "      <th>995</th>\n",
              "      <td>Прокуратура заподозрила Явлинского в авторитар...</td>\n",
              "      <td>0</td>\n",
              "    </tr>\n",
              "    <tr>\n",
              "      <th>996</th>\n",
              "      <td>В День Победы стратегические ракетоносцы Ту-16...</td>\n",
              "      <td>0</td>\n",
              "    </tr>\n",
              "    <tr>\n",
              "      <th>997</th>\n",
              "      <td>СК возбудил дело против авиакомпании «Победа» ...</td>\n",
              "      <td>0</td>\n",
              "    </tr>\n",
              "    <tr>\n",
              "      <th>998</th>\n",
              "      <td>Криптомонетный двор Туркменистана выпустил юби...</td>\n",
              "      <td>0</td>\n",
              "    </tr>\n",
              "    <tr>\n",
              "      <th>999</th>\n",
              "      <td>Deutsche Bahn заплатит рекордный штраф за чтен...</td>\n",
              "      <td>0</td>\n",
              "    </tr>\n",
              "  </tbody>\n",
              "</table>\n",
              "<p>1000 rows × 2 columns</p>\n",
              "</div>\n",
              "      <button class=\"colab-df-convert\" onclick=\"convertToInteractive('df-57b99812-d6e7-48a6-bf16-30d599ebb0e4')\"\n",
              "              title=\"Convert this dataframe to an interactive table.\"\n",
              "              style=\"display:none;\">\n",
              "        \n",
              "  <svg xmlns=\"http://www.w3.org/2000/svg\" height=\"24px\"viewBox=\"0 0 24 24\"\n",
              "       width=\"24px\">\n",
              "    <path d=\"M0 0h24v24H0V0z\" fill=\"none\"/>\n",
              "    <path d=\"M18.56 5.44l.94 2.06.94-2.06 2.06-.94-2.06-.94-.94-2.06-.94 2.06-2.06.94zm-11 1L8.5 8.5l.94-2.06 2.06-.94-2.06-.94L8.5 2.5l-.94 2.06-2.06.94zm10 10l.94 2.06.94-2.06 2.06-.94-2.06-.94-.94-2.06-.94 2.06-2.06.94z\"/><path d=\"M17.41 7.96l-1.37-1.37c-.4-.4-.92-.59-1.43-.59-.52 0-1.04.2-1.43.59L10.3 9.45l-7.72 7.72c-.78.78-.78 2.05 0 2.83L4 21.41c.39.39.9.59 1.41.59.51 0 1.02-.2 1.41-.59l7.78-7.78 2.81-2.81c.8-.78.8-2.07 0-2.86zM5.41 20L4 18.59l7.72-7.72 1.47 1.35L5.41 20z\"/>\n",
              "  </svg>\n",
              "      </button>\n",
              "      \n",
              "  <style>\n",
              "    .colab-df-container {\n",
              "      display:flex;\n",
              "      flex-wrap:wrap;\n",
              "      gap: 12px;\n",
              "    }\n",
              "\n",
              "    .colab-df-convert {\n",
              "      background-color: #E8F0FE;\n",
              "      border: none;\n",
              "      border-radius: 50%;\n",
              "      cursor: pointer;\n",
              "      display: none;\n",
              "      fill: #1967D2;\n",
              "      height: 32px;\n",
              "      padding: 0 0 0 0;\n",
              "      width: 32px;\n",
              "    }\n",
              "\n",
              "    .colab-df-convert:hover {\n",
              "      background-color: #E2EBFA;\n",
              "      box-shadow: 0px 1px 2px rgba(60, 64, 67, 0.3), 0px 1px 3px 1px rgba(60, 64, 67, 0.15);\n",
              "      fill: #174EA6;\n",
              "    }\n",
              "\n",
              "    [theme=dark] .colab-df-convert {\n",
              "      background-color: #3B4455;\n",
              "      fill: #D2E3FC;\n",
              "    }\n",
              "\n",
              "    [theme=dark] .colab-df-convert:hover {\n",
              "      background-color: #434B5C;\n",
              "      box-shadow: 0px 1px 3px 1px rgba(0, 0, 0, 0.15);\n",
              "      filter: drop-shadow(0px 1px 2px rgba(0, 0, 0, 0.3));\n",
              "      fill: #FFFFFF;\n",
              "    }\n",
              "  </style>\n",
              "\n",
              "      <script>\n",
              "        const buttonEl =\n",
              "          document.querySelector('#df-57b99812-d6e7-48a6-bf16-30d599ebb0e4 button.colab-df-convert');\n",
              "        buttonEl.style.display =\n",
              "          google.colab.kernel.accessAllowed ? 'block' : 'none';\n",
              "\n",
              "        async function convertToInteractive(key) {\n",
              "          const element = document.querySelector('#df-57b99812-d6e7-48a6-bf16-30d599ebb0e4');\n",
              "          const dataTable =\n",
              "            await google.colab.kernel.invokeFunction('convertToInteractive',\n",
              "                                                     [key], {});\n",
              "          if (!dataTable) return;\n",
              "\n",
              "          const docLinkHtml = 'Like what you see? Visit the ' +\n",
              "            '<a target=\"_blank\" href=https://colab.research.google.com/notebooks/data_table.ipynb>data table notebook</a>'\n",
              "            + ' to learn more about interactive tables.';\n",
              "          element.innerHTML = '';\n",
              "          dataTable['output_type'] = 'display_data';\n",
              "          await google.colab.output.renderOutput(dataTable, element);\n",
              "          const docLink = document.createElement('div');\n",
              "          docLink.innerHTML = docLinkHtml;\n",
              "          element.appendChild(docLink);\n",
              "        }\n",
              "      </script>\n",
              "    </div>\n",
              "  </div>\n",
              "  "
            ]
          },
          "metadata": {},
          "execution_count": 97
        }
      ],
      "source": [
        "test_data"
      ]
    },
    {
      "cell_type": "code",
      "execution_count": null,
      "metadata": {
        "id": "Bd5quapp-tJd"
      },
      "outputs": [],
      "source": [
        "x_train = data.loc[:,'title']\n",
        "y_train = data.loc[:,'is_fake']\n",
        "x_test = test_data.loc[:,'title']\n",
        "y_test = test_data.loc[:,'is_fake']"
      ]
    },
    {
      "cell_type": "markdown",
      "metadata": {
        "id": "FOWCeyRWxTIE"
      },
      "source": [
        "## **Model representation - LaBSE**\n",
        "\n",
        "Different representation approaches is used, first of them is LaBSE."
      ]
    },
    {
      "cell_type": "code",
      "source": [
        "import time\n",
        "from transformers import AutoTokenizer, AutoModel\n",
        "import torch\n",
        "import nltk\n",
        "nltk.download('stopwords')\n",
        "nltk.download('punkt')\n",
        "from nltk.corpus import stopwords\n",
        "from nltk.tokenize import word_tokenize\n",
        "from sklearn.metrics.pairwise import cosine_similarity\n",
        "import tensorflow_hub as hub\n",
        "import tensorflow as tf\n",
        "import tensorflow_text as text\n",
        "\n",
        "def normalization(embeds):\n",
        "  norms = np.linalg.norm(embeds, 2, axis=1, keepdims=True)\n",
        "  return embeds/norms\n",
        "\n",
        "\n",
        "preprocessor = hub.KerasLayer(\n",
        "    \"https://tfhub.dev/google/universal-sentence-encoder-cmlm/multilingual-preprocess/2\")\n",
        "encoder = hub.KerasLayer(\"https://tfhub.dev/google/LaBSE/2\")\n",
        "\n",
        "def sent_preprocess(sentence):\n",
        "  return np.array(normalization(encoder(preprocessor(tf.constant([sentence])))[\"default\"]))[0]"
      ],
      "metadata": {
        "colab": {
          "base_uri": "https://localhost:8080/"
        },
        "id": "bGcnAMbyDzCv",
        "outputId": "66841cf5-48c3-4fb3-fa10-a32cfb70af99"
      },
      "execution_count": null,
      "outputs": [
        {
          "output_type": "stream",
          "name": "stdout",
          "text": [
            "[nltk_data] Downloading package stopwords to /root/nltk_data...\n",
            "[nltk_data]   Unzipping corpora/stopwords.zip.\n",
            "[nltk_data] Downloading package punkt to /root/nltk_data...\n",
            "[nltk_data]   Unzipping tokenizers/punkt.zip.\n"
          ]
        }
      ]
    },
    {
      "cell_type": "code",
      "source": [
        "import tqdm\n",
        "import numpy as np\n",
        "\n",
        "x_train_preprocessed = [sent_preprocess(sent) for sent in tqdm.tqdm(x_train)]\n",
        "x_test_preprocessed = [sent_preprocess(sent) for sent in tqdm.tqdm(x_test)]"
      ],
      "metadata": {
        "colab": {
          "base_uri": "https://localhost:8080/"
        },
        "id": "SSo38OyvTzHG",
        "outputId": "b75e6053-c6ad-48ff-b866-05177f107a04"
      },
      "execution_count": null,
      "outputs": [
        {
          "output_type": "stream",
          "name": "stderr",
          "text": [
            "100%|██████████| 5758/5758 [56:40<00:00,  1.69it/s]\n",
            "100%|██████████| 1000/1000 [10:10<00:00,  1.64it/s]\n"
          ]
        }
      ]
    },
    {
      "cell_type": "code",
      "execution_count": null,
      "metadata": {
        "id": "O3V1jD07hTiB"
      },
      "outputs": [],
      "source": [
        "## data is saved for optimization purposes - in order to save time calculating LaBse representation of data\n",
        "\n",
        "x_train_preprocessed_labse = x_train_preprocessed\n",
        "x_test_preprocessed_labse = x_test_preprocessed"
      ]
    },
    {
      "cell_type": "code",
      "execution_count": null,
      "metadata": {
        "id": "LNjsNDxnA4MS"
      },
      "outputs": [],
      "source": [
        "from lazypredict.Supervised import LazyClassifier\n",
        "import numpy as np\n",
        "import pandas as pd\n",
        "\n",
        "size = np.array(x_train).shape[0]\n",
        "vector_size = 768"
      ]
    },
    {
      "cell_type": "code",
      "execution_count": null,
      "metadata": {
        "id": "xXKQoq4NnG6u",
        "colab": {
          "base_uri": "https://localhost:8080/"
        },
        "outputId": "06ac0416-8cda-44a0-a3db-33b2e55818c4"
      },
      "outputs": [
        {
          "output_type": "stream",
          "name": "stdout",
          "text": [
            "757\n",
            "5000\n",
            "757\n",
            "5000\n"
          ]
        }
      ],
      "source": [
        "## Split into valid and train sets\n",
        "\n",
        "x_valid_preprocessed = x_train_preprocessed[5001:size]\n",
        "x_train_preprocessed = x_train_preprocessed[0:5000]\n",
        "\n",
        "y_valid = y_train[5001:size]\n",
        "y_train = y_train[0:5000]\n",
        "\n",
        "print(len(x_valid_preprocessed))\n",
        "print(len(x_train_preprocessed))\n",
        "print(len(y_valid))\n",
        "print(len(y_train))"
      ]
    },
    {
      "cell_type": "markdown",
      "metadata": {
        "id": "mjKNzo9THSDI"
      },
      "source": [
        "### **General Classifiers**\n",
        "\n",
        "There is an application of most popular and wide-spread classifiers for current representation"
      ]
    },
    {
      "cell_type": "code",
      "execution_count": null,
      "metadata": {
        "colab": {
          "base_uri": "https://localhost:8080/"
        },
        "id": "1cXQoQF6n_KC",
        "outputId": "583e168f-11d9-448b-e56f-bdde4ab579ed"
      },
      "outputs": [
        {
          "output_type": "stream",
          "name": "stderr",
          "text": [
            "100%|██████████| 29/29 [05:01<00:00, 10.40s/it]"
          ]
        },
        {
          "output_type": "stream",
          "name": "stdout",
          "text": [
            "                               Accuracy  Balanced Accuracy  ROC AUC  F1 Score  \\\n",
            "Model                                                                           \n",
            "SVC                                0.90               0.90     0.90      0.90   \n",
            "NuSVC                              0.89               0.89     0.89      0.89   \n",
            "RidgeClassifierCV                  0.88               0.88     0.88      0.88   \n",
            "LGBMClassifier                     0.88               0.88     0.88      0.88   \n",
            "RidgeClassifier                    0.87               0.87     0.87      0.87   \n",
            "LinearDiscriminantAnalysis         0.87               0.87     0.87      0.87   \n",
            "XGBClassifier                      0.87               0.87     0.87      0.87   \n",
            "LogisticRegression                 0.87               0.87     0.87      0.87   \n",
            "SGDClassifier                      0.87               0.87     0.87      0.87   \n",
            "QuadraticDiscriminantAnalysis      0.85               0.85     0.85      0.85   \n",
            "Perceptron                         0.85               0.85     0.85      0.85   \n",
            "CalibratedClassifierCV             0.85               0.85     0.85      0.85   \n",
            "KNeighborsClassifier               0.84               0.84     0.84      0.84   \n",
            "PassiveAggressiveClassifier        0.84               0.84     0.84      0.84   \n",
            "ExtraTreesClassifier               0.84               0.84     0.84      0.84   \n",
            "LinearSVC                          0.84               0.84     0.84      0.84   \n",
            "BernoulliNB                        0.84               0.84     0.84      0.84   \n",
            "NearestCentroid                    0.83               0.83     0.83      0.83   \n",
            "GaussianNB                         0.83               0.83     0.83      0.83   \n",
            "RandomForestClassifier             0.83               0.83     0.83      0.83   \n",
            "AdaBoostClassifier                 0.80               0.80     0.80      0.80   \n",
            "BaggingClassifier                  0.79               0.79     0.79      0.79   \n",
            "DecisionTreeClassifier             0.69               0.69     0.69      0.69   \n",
            "ExtraTreeClassifier                0.65               0.65     0.65      0.65   \n",
            "LabelSpreading                     0.49               0.50     0.50      0.32   \n",
            "LabelPropagation                   0.49               0.50     0.50      0.32   \n",
            "DummyClassifier                    0.47               0.47     0.47      0.47   \n",
            "\n",
            "                               Time Taken  \n",
            "Model                                      \n",
            "SVC                                 21.89  \n",
            "NuSVC                               30.18  \n",
            "RidgeClassifierCV                    1.71  \n",
            "LGBMClassifier                      33.50  \n",
            "RidgeClassifier                      0.30  \n",
            "LinearDiscriminantAnalysis           1.98  \n",
            "XGBClassifier                       55.64  \n",
            "LogisticRegression                   0.79  \n",
            "SGDClassifier                        1.05  \n",
            "QuadraticDiscriminantAnalysis        1.93  \n",
            "Perceptron                           0.54  \n",
            "CalibratedClassifierCV              22.03  \n",
            "KNeighborsClassifier                 8.84  \n",
            "PassiveAggressiveClassifier          0.72  \n",
            "ExtraTreesClassifier                 2.98  \n",
            "LinearSVC                            7.06  \n",
            "BernoulliNB                          0.70  \n",
            "NearestCentroid                      0.24  \n",
            "GaussianNB                           0.23  \n",
            "RandomForestClassifier              11.82  \n",
            "AdaBoostClassifier                  46.02  \n",
            "BaggingClassifier                   39.96  \n",
            "DecisionTreeClassifier               6.61  \n",
            "ExtraTreeClassifier                  0.23  \n",
            "LabelSpreading                       2.15  \n",
            "LabelPropagation                     2.08  \n",
            "DummyClassifier                      0.20  \n"
          ]
        },
        {
          "output_type": "stream",
          "name": "stderr",
          "text": [
            "\n"
          ]
        }
      ],
      "source": [
        "clf = LazyClassifier(verbose=0,ignore_warnings=True, custom_metric=None)\n",
        "models,predictions = clf.fit(np.array(x_train_preprocessed).reshape([len(x_train_preprocessed),vector_size]), np.array(x_valid_preprocessed).reshape([len(x_valid_preprocessed),vector_size]), y_train, y_valid)\n",
        "\n",
        "print(models)"
      ]
    },
    {
      "cell_type": "markdown",
      "source": [
        "Models are performed well, but **SVC** performed better"
      ],
      "metadata": {
        "id": "vdnWrwGpco6o"
      }
    },
    {
      "cell_type": "code",
      "execution_count": null,
      "metadata": {
        "id": "A3VJdVaMoV8Z",
        "colab": {
          "base_uri": "https://localhost:8080/"
        },
        "outputId": "9216e7b3-f66e-4882-c039-bf2cb2f1a2d1"
      },
      "outputs": [
        {
          "output_type": "stream",
          "name": "stdout",
          "text": [
            "679 757\n"
          ]
        }
      ],
      "source": [
        "models = clf.provide_models(np.array(x_train_preprocessed).reshape([len(x_train_preprocessed),vector_size]), np.array(x_valid_preprocessed).reshape([len(x_valid_preprocessed),vector_size]), y_train, y_valid)\n",
        "predictions = models['SVC'].predict(np.array(x_valid_preprocessed).reshape([len(x_valid_preprocessed),vector_size]))\n",
        "\n",
        "print(sum([predictions[i] == np.array(y_valid)[i] for i in range(len(x_valid_preprocessed))]), len(x_valid_preprocessed))"
      ]
    },
    {
      "cell_type": "code",
      "execution_count": null,
      "metadata": {
        "id": "_A84sid5C3IM",
        "colab": {
          "base_uri": "https://localhost:8080/",
          "height": 521
        },
        "outputId": "42df96fa-e581-41b1-fb61-ca844fee917e"
      },
      "outputs": [
        {
          "output_type": "stream",
          "name": "stdout",
          "text": [
            "LaBSE, best general classifier\n",
            "F-measure or f1-score:  0.8984374999999999\n",
            "AUC:  0.8972490779032078\n",
            "Classification Report:\n",
            "              precision    recall  f1-score   support\n",
            "\n",
            "           1     0.9103    0.8869    0.8984       389\n",
            "           0     0.8836    0.9076    0.8954       368\n",
            "\n",
            "    accuracy                         0.8970       757\n",
            "   macro avg     0.8969    0.8972    0.8969       757\n",
            "weighted avg     0.8973    0.8970    0.8970       757\n",
            "\n"
          ]
        },
        {
          "output_type": "display_data",
          "data": {
            "text/plain": [
              "<Figure size 432x288 with 2 Axes>"
            ],
            "image/png": "[encoded data removed]"
          },
          "metadata": {
            "needs_background": "light"
          }
        }
      ],
      "source": [
        "# model evaluation\n",
        "from sklearn.metrics import f1_score\n",
        "\n",
        "import matplotlib.pyplot as plt\n",
        "import seaborn as sns\n",
        "\n",
        "print(\"LaBSE, best general classifier\")\n",
        "print(\"F-measure or f1-score: \", f1_score(y_valid, predictions))\n",
        "# print(\"Log loss: \", log_loss(y_test, predictions))\n",
        "\n",
        "fpr, tpr, thresholds = roc_curve(y_valid, predictions)\n",
        "\n",
        "print(\"AUC: \", auc(fpr, tpr))\n",
        "\n",
        "eval(y_valid, predictions)"
      ]
    },
    {
      "cell_type": "markdown",
      "metadata": {
        "id": "I2sNWTAqHfkV"
      },
      "source": [
        "### **LSTM classifier**"
      ]
    },
    {
      "cell_type": "code",
      "execution_count": null,
      "metadata": {
        "id": "YXsqe03VgY2y"
      },
      "outputs": [],
      "source": [
        "import pandas as pd\n",
        "import numpy as np\n",
        "from keras.models import Sequential\n",
        "from keras.layers import LSTM, Dense, Dropout\n",
        "from keras.callbacks import EarlyStopping, ModelCheckpoint\n",
        "from matplotlib import pyplot\n",
        "from keras.layers import Bidirectional"
      ]
    },
    {
      "cell_type": "code",
      "execution_count": null,
      "metadata": {
        "id": "zwE0YElKohWc",
        "colab": {
          "base_uri": "https://localhost:8080/"
        },
        "outputId": "a063e475-a1b6-413c-c638-3f984e39537c"
      },
      "outputs": [
        {
          "output_type": "stream",
          "name": "stdout",
          "text": [
            "Epoch 1/50\n",
            "WARNING:tensorflow:AutoGraph could not transform <function Model.make_train_function.<locals>.train_function at 0x7f16482c1200> and will run it as-is.\n",
            "Please report this to the TensorFlow team. When filing the bug, set the verbosity to 10 (on Linux, `export AUTOGRAPH_VERBOSITY=10`) and attach the full output.\n",
            "Cause: closure mismatch, requested ('self', 'step_function'), but source function had ()\n",
            "To silence this warning, decorate the function with @tf.autograph.experimental.do_not_convert\n"
          ]
        },
        {
          "output_type": "stream",
          "name": "stderr",
          "text": [
            "WARNING:tensorflow:AutoGraph could not transform <function Model.make_train_function.<locals>.train_function at 0x7f16482c1200> and will run it as-is.\n",
            "Please report this to the TensorFlow team. When filing the bug, set the verbosity to 10 (on Linux, `export AUTOGRAPH_VERBOSITY=10`) and attach the full output.\n",
            "Cause: closure mismatch, requested ('self', 'step_function'), but source function had ()\n",
            "To silence this warning, decorate the function with @tf.autograph.experimental.do_not_convert\n"
          ]
        },
        {
          "output_type": "stream",
          "name": "stdout",
          "text": [
            "WARNING: AutoGraph could not transform <function Model.make_train_function.<locals>.train_function at 0x7f16482c1200> and will run it as-is.\n",
            "Please report this to the TensorFlow team. When filing the bug, set the verbosity to 10 (on Linux, `export AUTOGRAPH_VERBOSITY=10`) and attach the full output.\n",
            "Cause: closure mismatch, requested ('self', 'step_function'), but source function had ()\n",
            "To silence this warning, decorate the function with @tf.autograph.experimental.do_not_convert\n"
          ]
        },
        {
          "output_type": "stream",
          "name": "stderr",
          "text": [
            "\r  0%|          | 0/5758 [1:25:33<?, ?it/s]\n"
          ]
        },
        {
          "output_type": "stream",
          "name": "stdout",
          "text": [
            "40/40 [==============================] - ETA: 0s - loss: 0.5280WARNING:tensorflow:AutoGraph could not transform <function Model.make_test_function.<locals>.test_function at 0x7f164ccb7e60> and will run it as-is.\n",
            "Please report this to the TensorFlow team. When filing the bug, set the verbosity to 10 (on Linux, `export AUTOGRAPH_VERBOSITY=10`) and attach the full output.\n",
            "Cause: closure mismatch, requested ('self', 'step_function'), but source function had ()\n",
            "To silence this warning, decorate the function with @tf.autograph.experimental.do_not_convert\n"
          ]
        },
        {
          "output_type": "stream",
          "name": "stderr",
          "text": [
            "WARNING:tensorflow:AutoGraph could not transform <function Model.make_test_function.<locals>.test_function at 0x7f164ccb7e60> and will run it as-is.\n",
            "Please report this to the TensorFlow team. When filing the bug, set the verbosity to 10 (on Linux, `export AUTOGRAPH_VERBOSITY=10`) and attach the full output.\n",
            "Cause: closure mismatch, requested ('self', 'step_function'), but source function had ()\n",
            "To silence this warning, decorate the function with @tf.autograph.experimental.do_not_convert\n"
          ]
        },
        {
          "output_type": "stream",
          "name": "stdout",
          "text": [
            "WARNING: AutoGraph could not transform <function Model.make_test_function.<locals>.test_function at 0x7f164ccb7e60> and will run it as-is.\n",
            "Please report this to the TensorFlow team. When filing the bug, set the verbosity to 10 (on Linux, `export AUTOGRAPH_VERBOSITY=10`) and attach the full output.\n",
            "Cause: closure mismatch, requested ('self', 'step_function'), but source function had ()\n",
            "To silence this warning, decorate the function with @tf.autograph.experimental.do_not_convert\n",
            "40/40 [==============================] - 16s 239ms/step - loss: 0.5280 - val_loss: 0.3620\n",
            "Epoch 2/50\n",
            "40/40 [==============================] - 8s 202ms/step - loss: 0.3219 - val_loss: 0.3039\n",
            "Epoch 3/50\n",
            "40/40 [==============================] - 8s 199ms/step - loss: 0.2909 - val_loss: 0.2941\n",
            "Epoch 4/50\n",
            "40/40 [==============================] - 10s 247ms/step - loss: 0.2843 - val_loss: 0.2836\n",
            "Epoch 5/50\n",
            "40/40 [==============================] - 8s 194ms/step - loss: 0.2769 - val_loss: 0.2876\n",
            "Epoch 6/50\n",
            "40/40 [==============================] - 8s 196ms/step - loss: 0.2700 - val_loss: 0.2907\n",
            "Epoch 7/50\n",
            "40/40 [==============================] - 8s 195ms/step - loss: 0.2691 - val_loss: 0.2909\n",
            "Epoch 8/50\n",
            "40/40 [==============================] - 8s 197ms/step - loss: 0.2661 - val_loss: 0.2932\n",
            "Epoch 9/50\n",
            "40/40 [==============================] - 8s 194ms/step - loss: 0.2637 - val_loss: 0.2921\n",
            "Epoch 10/50\n",
            "40/40 [==============================] - 9s 217ms/step - loss: 0.2613 - val_loss: 0.2848\n",
            "Epoch 11/50\n",
            "40/40 [==============================] - 8s 196ms/step - loss: 0.2589 - val_loss: 0.2875\n"
          ]
        },
        {
          "output_type": "execute_result",
          "data": {
            "text/plain": [
              "<keras.callbacks.History at 0x7f16712eb650>"
            ]
          },
          "metadata": {},
          "execution_count": 58
        }
      ],
      "source": [
        "lstm = Sequential()\n",
        "lstm.add(Bidirectional(LSTM(768, return_sequences=False)))\n",
        "lstm.add(Dense(1, activation='sigmoid'))\n",
        "\n",
        "callback = EarlyStopping(monitor='val_loss', patience=7)\n",
        "\n",
        "lstm.compile(loss='binary_crossentropy', optimizer='adam')\n",
        "lstm.fit(np.array(x_train_preprocessed).reshape([len(x_train_preprocessed),1,vector_size]), y_train, validation_data=(np.array(x_valid_preprocessed).reshape([len(x_valid_preprocessed),1,vector_size]), y_valid), epochs=50, batch_size=128, verbose=1, shuffle=True, callbacks=[callback])\n"
      ]
    },
    {
      "cell_type": "code",
      "execution_count": null,
      "metadata": {
        "colab": {
          "base_uri": "https://localhost:8080/"
        },
        "id": "iRhLJLgkotpZ",
        "outputId": "05e5fb14-9310-47a5-dbcd-02f5fbea65cc"
      },
      "outputs": [
        {
          "output_type": "stream",
          "name": "stdout",
          "text": [
            "389 757\n"
          ]
        }
      ],
      "source": [
        "import math\n",
        "\n",
        "predictions_lstm = lstm.predict(np.array(x_valid_preprocessed).reshape([len(x_valid_preprocessed),1,vector_size]))\n",
        "\n",
        "print(sum([math.ceil(predictions_lstm[i]) == np.array(y_valid)[i] for i in range(len(x_valid_preprocessed))]), len(x_valid_preprocessed))"
      ]
    },
    {
      "cell_type": "code",
      "execution_count": null,
      "metadata": {
        "colab": {
          "base_uri": "https://localhost:8080/",
          "height": 573
        },
        "id": "-cAS5e7xJbI8",
        "outputId": "045b9cd3-a1ad-40bc-b503-89ea2e229ef0"
      },
      "outputs": [
        {
          "output_type": "stream",
          "name": "stdout",
          "text": [
            "BERT, LSTM, no balancing techniques\n",
            "F-measure or f1-score:  0.6788830715532287\n",
            "Log loss:  0.28750679034964927\n",
            "Log loss:  16.790705370120794\n",
            "AUC:  0.9499902201855371\n",
            "AUC:  0.5\n",
            "Classification Report:\n",
            "              precision    recall  f1-score   support\n",
            "\n",
            "           1     0.5139    1.0000    0.6789       389\n",
            "           0     0.0000    0.0000    0.0000       368\n",
            "\n",
            "    accuracy                         0.5139       757\n",
            "   macro avg     0.2569    0.5000    0.3394       757\n",
            "weighted avg     0.2641    0.5139    0.3489       757\n",
            "\n"
          ]
        },
        {
          "output_type": "display_data",
          "data": {
            "text/plain": [
              "<Figure size 432x288 with 2 Axes>"
            ],
            "image/png": "[encoded data removed]"
          },
          "metadata": {
            "needs_background": "light"
          }
        }
      ],
      "source": [
        "# model evaluation\n",
        "\n",
        "print(\"LaBSE, LSTM\")\n",
        "print(\"F-measure or f1-score: \", f1_score(y_valid, [math.ceil(predictions_lstm[i]) for i in range(len(predictions_lstm))]))\n",
        "print(\"Log loss: \", log_loss(y_valid, predictions_lstm))\n",
        "print(\"Log loss: \", log_loss(y_valid, [math.ceil(predictions_lstm[i]) for i in range(len(predictions_lstm))]))\n",
        "\n",
        "fpr, tpr, thresholds = roc_curve(y_valid, predictions_lstm)\n",
        "\n",
        "print(\"AUC: \", auc(fpr, tpr))\n",
        "\n",
        "fpr, tpr, thresholds = roc_curve(y_valid,[math.ceil(predictions_lstm[i]) for i in range(len(predictions_lstm))])\n",
        "\n",
        "print(\"AUC: \", auc(fpr, tpr))\n",
        "\n",
        "eval(y_valid, [math.ceil(predictions_lstm[i]) for i in range(len(predictions_lstm))])"
      ]
    },
    {
      "cell_type": "markdown",
      "source": [
        "LSRM performed badly - it had propogated label \"Fake\" to every news.\n",
        "\n",
        "LSTM architecture should be different."
      ],
      "metadata": {
        "id": "cxQqxJwLdSo4"
      }
    },
    {
      "cell_type": "markdown",
      "metadata": {
        "id": "Ksff1H9JrZ1X"
      },
      "source": [
        "## **Doc2Vec**\n",
        "\n",
        "Application of the second representation approach."
      ]
    },
    {
      "cell_type": "code",
      "execution_count": null,
      "metadata": {
        "id": "SD2yOtYnuSjB"
      },
      "outputs": [],
      "source": [
        "!pip install --upgrade numpy"
      ]
    },
    {
      "cell_type": "code",
      "execution_count": null,
      "metadata": {
        "colab": {
          "base_uri": "https://localhost:8080/"
        },
        "id": "hndLVOrUrh_e",
        "outputId": "f0615287-699f-4800-edbc-e833a67ee2a6"
      },
      "outputs": [
        {
          "output_type": "stream",
          "name": "stdout",
          "text": [
            "[nltk_data] Downloading package stopwords to /root/nltk_data...\n",
            "[nltk_data]   Package stopwords is already up-to-date!\n",
            "[nltk_data] Downloading package punkt to /root/nltk_data...\n",
            "[nltk_data]   Package punkt is already up-to-date!\n"
          ]
        }
      ],
      "source": [
        "from gensim.models.doc2vec import Doc2Vec, TaggedDocument\n",
        "import nltk\n",
        "nltk.download('stopwords')\n",
        "nltk.download('punkt')\n",
        "from nltk.corpus import stopwords\n",
        "from nltk.tokenize import word_tokenize"
      ]
    },
    {
      "cell_type": "code",
      "source": [
        "import sys\n",
        "import logging\n",
        "import os\n",
        "import gensim\n",
        "from gensim.models import Doc2Vec\n",
        "from nltk import sent_tokenize, word_tokenize\n",
        "\n",
        "tagged_train_sent = []\n",
        "count=0\n",
        "for title in x_train:\n",
        "    words = word_tokenize(title)\n",
        "    tagged_train_sent.append(gensim.models.doc2vec.TaggedDocument(words, [0]))\n",
        "    count+=1\n",
        "\n",
        "tagged_test_sent = []\n",
        "for title in x_test:\n",
        "    words = word_tokenize(title)\n",
        "    tagged_test_sent.append(gensim.models.doc2vec.TaggedDocument(words, [str(count)]))\n",
        "\n",
        "model = Doc2Vec(tagged_train_sent, dm=1, size=100, window=8, min_count=5, workers=4)"
      ],
      "metadata": {
        "colab": {
          "base_uri": "https://localhost:8080/"
        },
        "id": "rGxFLkUrdRX2",
        "outputId": "ffae2060-6715-48fa-d6a9-00faa0cf9a0d"
      },
      "execution_count": null,
      "outputs": [
        {
          "output_type": "stream",
          "name": "stderr",
          "text": [
            "WARNING:gensim.models.base_any2vec:under 10 jobs per worker: consider setting a smaller `batch_words' for smoother alpha decay\n"
          ]
        }
      ]
    },
    {
      "cell_type": "code",
      "execution_count": null,
      "metadata": {
        "id": "vaUZ5ENKt21c"
      },
      "outputs": [],
      "source": [
        "vector_size = 100\n",
        "\n",
        "model_doc2vec = Doc2Vec(tagged_train_sent+tagged_test_sent, vector_size = vector_size, window = 4, min_count = 1, epochs = 100)"
      ]
    },
    {
      "cell_type": "code",
      "execution_count": null,
      "metadata": {
        "id": "N3t4LwXP3z_l"
      },
      "outputs": [],
      "source": [
        "x_train = data.loc[:,'title']\n",
        "y_train = data.loc[:,'is_fake']\n",
        "x_test = test_data.loc[:,'title']\n",
        "y_test = test_data.loc[:,'is_fake']"
      ]
    },
    {
      "cell_type": "code",
      "execution_count": null,
      "metadata": {
        "id": "bdRMjUf9v1VV",
        "colab": {
          "base_uri": "https://localhost:8080/"
        },
        "outputId": "7e910ba9-940a-442b-9728-d695bf345036"
      },
      "outputs": [
        {
          "output_type": "stream",
          "name": "stderr",
          "text": [
            "100%|██████████| 5758/5758 [00:26<00:00, 220.43it/s]\n",
            "100%|██████████| 1000/1000 [00:04<00:00, 229.94it/s]\n"
          ]
        }
      ],
      "source": [
        "import tqdm\n",
        "\n",
        "x_train_preprocessed = [model_doc2vec.infer_vector(word_tokenize(sent.lower())) for sent in tqdm.tqdm(x_train)]\n",
        "x_test_preprocessed = [model_doc2vec.infer_vector(word_tokenize(sent.lower())) for sent in tqdm.tqdm(x_test)]\n",
        "\n",
        "x_train_preprocessed_doc2vec = x_train_preprocessed\n",
        "x_test_preprocessed_doc2vec = x_test_preprocessed"
      ]
    },
    {
      "cell_type": "code",
      "execution_count": null,
      "metadata": {
        "colab": {
          "base_uri": "https://localhost:8080/"
        },
        "id": "RTjpcWGhzmth",
        "outputId": "e8936473-c99a-4a07-d0ce-eea8b985c7f6"
      },
      "outputs": [
        {
          "output_type": "execute_result",
          "data": {
            "text/plain": [
              "(5758, 100)"
            ]
          },
          "metadata": {},
          "execution_count": 21
        }
      ],
      "source": [
        "import numpy as np\n",
        "\n",
        "np.array(x_train_preprocessed).shape"
      ]
    },
    {
      "cell_type": "code",
      "source": [
        "x_valid_preprocessed = x_train_preprocessed[5001:size]\n",
        "x_train_preprocessed = x_train_preprocessed[0:5000]\n",
        "\n",
        "y_valid = y_train[5001:size]\n",
        "y_train = y_train[0:5000]\n",
        "\n",
        "print(len(x_valid_preprocessed))\n",
        "print(len(x_train_preprocessed))\n",
        "print(len(y_valid))\n",
        "print(len(y_train))"
      ],
      "metadata": {
        "colab": {
          "base_uri": "https://localhost:8080/"
        },
        "id": "I_EMJzL1eWO4",
        "outputId": "b26db496-6194-44a2-c7c5-11f184c44e64"
      },
      "execution_count": null,
      "outputs": [
        {
          "output_type": "stream",
          "name": "stdout",
          "text": [
            "757\n",
            "5000\n",
            "757\n",
            "5000\n"
          ]
        }
      ]
    },
    {
      "cell_type": "markdown",
      "metadata": {
        "id": "jDVrEenDNN0I"
      },
      "source": [
        "### **General classifier**"
      ]
    },
    {
      "cell_type": "code",
      "execution_count": null,
      "metadata": {
        "id": "CnuGWflcIlp_",
        "colab": {
          "base_uri": "https://localhost:8080/"
        },
        "outputId": "0cc0e2f8-ecc2-4be9-992a-35b6ec4d9ba7"
      },
      "outputs": [
        {
          "output_type": "stream",
          "name": "stderr",
          "text": [
            "100%|██████████| 29/29 [00:42<00:00,  1.45s/it]"
          ]
        },
        {
          "output_type": "stream",
          "name": "stdout",
          "text": [
            "                               Accuracy  Balanced Accuracy  ROC AUC  F1 Score  \\\n",
            "Model                                                                           \n",
            "SVC                                0.77               0.77     0.77      0.77   \n",
            "NuSVC                              0.77               0.77     0.77      0.77   \n",
            "XGBClassifier                      0.76               0.76     0.76      0.76   \n",
            "LGBMClassifier                     0.76               0.76     0.76      0.76   \n",
            "LogisticRegression                 0.75               0.75     0.75      0.75   \n",
            "CalibratedClassifierCV             0.75               0.75     0.75      0.74   \n",
            "LinearSVC                          0.74               0.74     0.74      0.74   \n",
            "RandomForestClassifier             0.74               0.74     0.74      0.74   \n",
            "RidgeClassifierCV                  0.74               0.74     0.74      0.74   \n",
            "ExtraTreesClassifier               0.74               0.74     0.74      0.73   \n",
            "RidgeClassifier                    0.74               0.74     0.74      0.74   \n",
            "LinearDiscriminantAnalysis         0.73               0.74     0.74      0.73   \n",
            "AdaBoostClassifier                 0.72               0.73     0.73      0.72   \n",
            "SGDClassifier                      0.71               0.71     0.71      0.71   \n",
            "BaggingClassifier                  0.70               0.70     0.70      0.70   \n",
            "KNeighborsClassifier               0.70               0.70     0.70      0.69   \n",
            "GaussianNB                         0.70               0.70     0.70      0.70   \n",
            "NearestCentroid                    0.70               0.70     0.70      0.70   \n",
            "QuadraticDiscriminantAnalysis      0.69               0.70     0.70      0.69   \n",
            "BernoulliNB                        0.69               0.69     0.69      0.69   \n",
            "PassiveAggressiveClassifier        0.63               0.63     0.63      0.63   \n",
            "ExtraTreeClassifier                0.63               0.63     0.63      0.63   \n",
            "DecisionTreeClassifier             0.61               0.61     0.61      0.61   \n",
            "LabelSpreading                     0.49               0.50     0.50      0.32   \n",
            "LabelPropagation                   0.49               0.50     0.50      0.32   \n",
            "DummyClassifier                    0.47               0.47     0.47      0.47   \n",
            "Perceptron                         0.44               0.44     0.44      0.44   \n",
            "\n",
            "                               Time Taken  \n",
            "Model                                      \n",
            "SVC                                  2.82  \n",
            "NuSVC                                3.46  \n",
            "XGBClassifier                        6.57  \n",
            "LGBMClassifier                       2.16  \n",
            "LogisticRegression                   0.14  \n",
            "CalibratedClassifierCV               6.32  \n",
            "LinearSVC                            1.66  \n",
            "RandomForestClassifier               4.76  \n",
            "RidgeClassifierCV                    0.11  \n",
            "ExtraTreesClassifier                 1.13  \n",
            "RidgeClassifier                      0.04  \n",
            "LinearDiscriminantAnalysis           0.15  \n",
            "AdaBoostClassifier                   3.68  \n",
            "SGDClassifier                        0.21  \n",
            "BaggingClassifier                    5.62  \n",
            "KNeighborsClassifier                 0.74  \n",
            "GaussianNB                           0.03  \n",
            "NearestCentroid                      0.04  \n",
            "QuadraticDiscriminantAnalysis        0.09  \n",
            "BernoulliNB                          0.05  \n",
            "PassiveAggressiveClassifier          0.05  \n",
            "ExtraTreeClassifier                  0.04  \n",
            "DecisionTreeClassifier               0.79  \n",
            "LabelSpreading                       0.68  \n",
            "LabelPropagation                     0.67  \n",
            "DummyClassifier                      0.03  \n",
            "Perceptron                           0.06  \n"
          ]
        },
        {
          "output_type": "stream",
          "name": "stderr",
          "text": [
            "\n"
          ]
        }
      ],
      "source": [
        "from lazypredict.Supervised import LazyClassifier\n",
        "\n",
        "clf = LazyClassifier(verbose=0,ignore_warnings=True, custom_metric=None)\n",
        "models,predictions = clf.fit(np.array(x_train_preprocessed).reshape([len(x_train_preprocessed),vector_size]), np.array(x_valid_preprocessed).reshape([len(x_valid_preprocessed),vector_size]), y_train, y_valid)\n",
        "\n",
        "print(models)"
      ]
    },
    {
      "cell_type": "code",
      "execution_count": null,
      "metadata": {
        "id": "Ta2v2oroCXT9",
        "colab": {
          "base_uri": "https://localhost:8080/"
        },
        "outputId": "bd61fdc6-6d44-456b-e53d-cdb70f2cf42c"
      },
      "outputs": [
        {
          "output_type": "stream",
          "name": "stdout",
          "text": [
            "562 757\n"
          ]
        }
      ],
      "source": [
        "models = clf.provide_models(np.array(x_train_preprocessed).reshape([len(x_train_preprocessed),vector_size]), np.array(x_valid_preprocessed).reshape([len(x_valid_preprocessed),vector_size]), y_train, y_valid)\n",
        "predictions = models['RandomForestClassifier'].predict(np.array(x_valid_preprocessed).reshape([len(x_valid_preprocessed),vector_size]))\n",
        "\n",
        "print(sum([predictions[i] == np.array(y_valid)[i] for i in range(len(x_valid_preprocessed))]), len(x_valid_preprocessed))"
      ]
    },
    {
      "cell_type": "code",
      "execution_count": null,
      "metadata": {
        "id": "3W9ntU9aKim5",
        "colab": {
          "base_uri": "https://localhost:8080/",
          "height": 521
        },
        "outputId": "1ca5a74f-c4aa-47f0-e9ee-eb1f8649106e"
      },
      "outputs": [
        {
          "output_type": "stream",
          "name": "stdout",
          "text": [
            "BERT, best general classifier, no balancing techniques\n",
            "F-measure or f1-score:  0.7389558232931726\n",
            "AUC:  0.7433427405834357\n",
            "Classification Report:\n",
            "              precision    recall  f1-score   support\n",
            "\n",
            "           1     0.7709    0.7095    0.7390       389\n",
            "           0     0.7168    0.7772    0.7458       368\n",
            "\n",
            "    accuracy                         0.7424       757\n",
            "   macro avg     0.7439    0.7433    0.7424       757\n",
            "weighted avg     0.7446    0.7424    0.7423       757\n",
            "\n"
          ]
        },
        {
          "output_type": "display_data",
          "data": {
            "text/plain": [
              "<Figure size 432x288 with 2 Axes>"
            ],
            "image/png": "[encoded data removed]"
          },
          "metadata": {
            "needs_background": "light"
          }
        }
      ],
      "source": [
        "# model evaluation\n",
        "from sklearn.metrics import f1_score\n",
        "import matplotlib.pyplot as plt\n",
        "import seaborn as sns\n",
        "\n",
        "print(\"Doc2vec, best general classifier\")\n",
        "print(\"F-measure or f1-score: \", f1_score(y_valid, predictions))\n",
        "# print(\"Log loss: \", log_loss(y_test, predictions))\n",
        "\n",
        "fpr, tpr, thresholds = roc_curve(y_valid, predictions)\n",
        "\n",
        "print(\"AUC: \", auc(fpr, tpr))\n",
        "\n",
        "eval(y_valid, predictions)"
      ]
    },
    {
      "cell_type": "markdown",
      "metadata": {
        "id": "fo9u5MULNKrk"
      },
      "source": [
        "### **LSTM classifier**"
      ]
    },
    {
      "cell_type": "code",
      "execution_count": null,
      "metadata": {
        "id": "G6lebYY51JWf"
      },
      "outputs": [],
      "source": [
        "import pandas as pd\n",
        "import numpy as np\n",
        "from keras.models import Sequential\n",
        "from keras.layers import LSTM, Dense, Dropout\n",
        "from keras.callbacks import EarlyStopping, ModelCheckpoint\n",
        "from matplotlib import pyplot\n",
        "from keras.layers import Bidirectional"
      ]
    },
    {
      "cell_type": "code",
      "execution_count": null,
      "metadata": {
        "id": "SSiUA6zBD5Uz",
        "colab": {
          "base_uri": "https://localhost:8080/"
        },
        "outputId": "585ccde5-f7f3-4e38-fa1a-f0a9c699037e"
      },
      "outputs": [
        {
          "output_type": "stream",
          "name": "stdout",
          "text": [
            "Epoch 1/50\n",
            "40/40 [==============================] - 6s 30ms/step - loss: 0.6387 - val_loss: 0.5797\n",
            "Epoch 2/50\n",
            "40/40 [==============================] - 0s 9ms/step - loss: 0.5669 - val_loss: 0.5341\n",
            "Epoch 3/50\n",
            "40/40 [==============================] - 0s 9ms/step - loss: 0.5429 - val_loss: 0.5243\n",
            "Epoch 4/50\n",
            "40/40 [==============================] - 0s 9ms/step - loss: 0.5376 - val_loss: 0.5181\n",
            "Epoch 5/50\n",
            "40/40 [==============================] - 0s 9ms/step - loss: 0.5356 - val_loss: 0.5191\n",
            "Epoch 6/50\n",
            "40/40 [==============================] - 0s 9ms/step - loss: 0.5368 - val_loss: 0.5210\n",
            "Epoch 7/50\n",
            "40/40 [==============================] - 0s 10ms/step - loss: 0.5358 - val_loss: 0.5139\n",
            "Epoch 8/50\n",
            "40/40 [==============================] - 0s 9ms/step - loss: 0.5266 - val_loss: 0.5223\n",
            "Epoch 9/50\n",
            "40/40 [==============================] - 0s 9ms/step - loss: 0.5265 - val_loss: 0.5111\n",
            "Epoch 10/50\n",
            "40/40 [==============================] - 0s 9ms/step - loss: 0.5236 - val_loss: 0.5102\n",
            "Epoch 11/50\n",
            "40/40 [==============================] - 0s 8ms/step - loss: 0.5231 - val_loss: 0.5069\n",
            "Epoch 12/50\n",
            "40/40 [==============================] - 0s 9ms/step - loss: 0.5211 - val_loss: 0.5111\n",
            "Epoch 13/50\n",
            "40/40 [==============================] - 0s 10ms/step - loss: 0.5236 - val_loss: 0.5047\n",
            "Epoch 14/50\n",
            "40/40 [==============================] - 0s 10ms/step - loss: 0.5196 - val_loss: 0.5057\n",
            "Epoch 15/50\n",
            "40/40 [==============================] - 0s 9ms/step - loss: 0.5160 - val_loss: 0.5012\n",
            "Epoch 16/50\n",
            "40/40 [==============================] - 0s 9ms/step - loss: 0.5141 - val_loss: 0.5008\n",
            "Epoch 17/50\n",
            "40/40 [==============================] - 0s 9ms/step - loss: 0.5117 - val_loss: 0.5212\n",
            "Epoch 18/50\n",
            "40/40 [==============================] - 0s 8ms/step - loss: 0.5162 - val_loss: 0.4984\n",
            "Epoch 19/50\n",
            "40/40 [==============================] - 0s 9ms/step - loss: 0.5117 - val_loss: 0.4985\n",
            "Epoch 20/50\n",
            "40/40 [==============================] - 0s 9ms/step - loss: 0.5070 - val_loss: 0.4966\n",
            "Epoch 21/50\n",
            "40/40 [==============================] - 0s 9ms/step - loss: 0.5057 - val_loss: 0.5133\n",
            "Epoch 22/50\n",
            "40/40 [==============================] - 0s 9ms/step - loss: 0.5152 - val_loss: 0.4951\n",
            "Epoch 23/50\n",
            "40/40 [==============================] - 0s 9ms/step - loss: 0.5038 - val_loss: 0.4945\n",
            "Epoch 24/50\n",
            "40/40 [==============================] - 0s 9ms/step - loss: 0.5009 - val_loss: 0.4938\n",
            "Epoch 25/50\n",
            "40/40 [==============================] - 0s 9ms/step - loss: 0.4992 - val_loss: 0.4928\n",
            "Epoch 26/50\n",
            "40/40 [==============================] - 0s 10ms/step - loss: 0.4988 - val_loss: 0.4978\n",
            "Epoch 27/50\n",
            "40/40 [==============================] - 0s 9ms/step - loss: 0.4954 - val_loss: 0.4942\n",
            "Epoch 28/50\n",
            "40/40 [==============================] - 0s 9ms/step - loss: 0.4945 - val_loss: 0.5056\n",
            "Epoch 29/50\n",
            "40/40 [==============================] - 0s 9ms/step - loss: 0.4948 - val_loss: 0.4920\n",
            "Epoch 30/50\n",
            "40/40 [==============================] - 0s 9ms/step - loss: 0.4915 - val_loss: 0.4930\n",
            "Epoch 31/50\n",
            "40/40 [==============================] - 0s 9ms/step - loss: 0.4906 - val_loss: 0.4888\n",
            "Epoch 32/50\n",
            "40/40 [==============================] - 1s 18ms/step - loss: 0.4961 - val_loss: 0.5043\n",
            "Epoch 33/50\n",
            "40/40 [==============================] - 1s 16ms/step - loss: 0.4873 - val_loss: 0.4943\n",
            "Epoch 34/50\n",
            "40/40 [==============================] - 0s 9ms/step - loss: 0.4906 - val_loss: 0.5000\n",
            "Epoch 35/50\n",
            "40/40 [==============================] - 0s 9ms/step - loss: 0.4938 - val_loss: 0.4885\n",
            "Epoch 36/50\n",
            "40/40 [==============================] - 0s 9ms/step - loss: 0.4834 - val_loss: 0.4883\n",
            "Epoch 37/50\n",
            "40/40 [==============================] - 0s 9ms/step - loss: 0.4832 - val_loss: 0.4900\n",
            "Epoch 38/50\n",
            "40/40 [==============================] - 0s 9ms/step - loss: 0.4796 - val_loss: 0.4984\n",
            "Epoch 39/50\n",
            "40/40 [==============================] - 0s 9ms/step - loss: 0.4836 - val_loss: 0.4895\n",
            "Epoch 40/50\n",
            "40/40 [==============================] - 0s 8ms/step - loss: 0.4786 - val_loss: 0.5047\n",
            "Epoch 41/50\n",
            "40/40 [==============================] - 0s 10ms/step - loss: 0.4792 - val_loss: 0.4859\n",
            "Epoch 42/50\n",
            "40/40 [==============================] - 0s 9ms/step - loss: 0.4766 - val_loss: 0.4872\n",
            "Epoch 43/50\n",
            "40/40 [==============================] - 0s 9ms/step - loss: 0.4767 - val_loss: 0.4896\n",
            "Epoch 44/50\n",
            "40/40 [==============================] - 0s 9ms/step - loss: 0.4720 - val_loss: 0.4865\n",
            "Epoch 45/50\n",
            "40/40 [==============================] - 0s 9ms/step - loss: 0.4717 - val_loss: 0.4897\n",
            "Epoch 46/50\n",
            "40/40 [==============================] - 0s 9ms/step - loss: 0.4724 - val_loss: 0.4861\n",
            "Epoch 47/50\n",
            "40/40 [==============================] - 0s 9ms/step - loss: 0.4728 - val_loss: 0.4880\n",
            "Epoch 48/50\n",
            "40/40 [==============================] - 0s 8ms/step - loss: 0.4693 - val_loss: 0.4903\n"
          ]
        },
        {
          "output_type": "execute_result",
          "data": {
            "text/plain": [
              "<keras.callbacks.History at 0x7f821ad3c450>"
            ]
          },
          "metadata": {},
          "execution_count": 35
        }
      ],
      "source": [
        "lstm = Sequential()\n",
        "lstm.add(Bidirectional(LSTM(100, return_sequences=False)))\n",
        "lstm.add(Dense(1, activation='sigmoid'))\n",
        "\n",
        "callback = EarlyStopping(monitor='val_loss', patience=7)\n",
        "\n",
        "lstm.compile(loss='binary_crossentropy', optimizer='adam')\n",
        "lstm.fit(np.array(x_train_preprocessed).reshape([len(x_train_preprocessed),1,vector_size]), y_train, validation_data=(np.array(x_valid_preprocessed).reshape([len(x_valid_preprocessed),1,vector_size]), y_valid), epochs=50, batch_size=128, verbose=1, shuffle=True, callbacks=[callback])\n"
      ]
    },
    {
      "cell_type": "code",
      "execution_count": null,
      "metadata": {
        "id": "_mpA9O2_h8wU",
        "colab": {
          "base_uri": "https://localhost:8080/"
        },
        "outputId": "5a851987-cd2b-4060-c2bc-294be991d133"
      },
      "outputs": [
        {
          "output_type": "stream",
          "name": "stdout",
          "text": [
            "389 757\n"
          ]
        }
      ],
      "source": [
        "import math\n",
        "\n",
        "predictions_lstm = lstm.predict(np.array(x_valid_preprocessed).reshape([len(x_valid_preprocessed),1,vector_size]))\n",
        "\n",
        "print(sum([math.ceil(predictions_lstm[i]) == np.array(y_valid)[i] for i in range(len(x_valid_preprocessed))]), len(x_valid_preprocessed))"
      ]
    },
    {
      "cell_type": "code",
      "execution_count": null,
      "metadata": {
        "id": "QVLdsbtgKSOy",
        "colab": {
          "base_uri": "https://localhost:8080/",
          "height": 573
        },
        "outputId": "a9ceca00-3dcd-45df-af08-8c0716930f14"
      },
      "outputs": [
        {
          "output_type": "stream",
          "name": "stdout",
          "text": [
            "Doc2Vec, LSTM\n",
            "F-measure or f1-score:  0.6788830715532287\n",
            "Log loss:  0.4902637394195419\n",
            "Log loss:  16.790705370120794\n",
            "AUC:  0.8415111210461608\n",
            "AUC:  0.5\n",
            "Classification Report:\n",
            "              precision    recall  f1-score   support\n",
            "\n",
            "           1     0.5139    1.0000    0.6789       389\n",
            "           0     0.0000    0.0000    0.0000       368\n",
            "\n",
            "    accuracy                         0.5139       757\n",
            "   macro avg     0.2569    0.5000    0.3394       757\n",
            "weighted avg     0.2641    0.5139    0.3489       757\n",
            "\n"
          ]
        },
        {
          "output_type": "display_data",
          "data": {
            "text/plain": [
              "<Figure size 432x288 with 2 Axes>"
            ],
            "image/png": "[encoded data removed]"
          },
          "metadata": {
            "needs_background": "light"
          }
        }
      ],
      "source": [
        "# model evaluation\n",
        "from sklearn.metrics import f1_score\n",
        "import matplotlib.pyplot as plt\n",
        "import seaborn as sns\n",
        "\n",
        "print(\"Doc2Vec, LSTM\")\n",
        "print(\"F-measure or f1-score: \", f1_score(y_valid, [math.ceil(predictions_lstm[i]) for i in range(len(predictions_lstm))]))\n",
        "print(\"Log loss: \", log_loss(y_valid, predictions_lstm))\n",
        "print(\"Log loss: \", log_loss(y_valid, [math.ceil(predictions_lstm[i]) for i in range(len(predictions_lstm))]))\n",
        "\n",
        "fpr, tpr, thresholds = roc_curve(y_valid, predictions_lstm)\n",
        "\n",
        "print(\"AUC: \", auc(fpr, tpr))\n",
        "\n",
        "fpr, tpr, thresholds = roc_curve(y_valid,[math.ceil(predictions_lstm[i]) for i in range(len(predictions_lstm))])\n",
        "\n",
        "print(\"AUC: \", auc(fpr, tpr))\n",
        "\n",
        "eval(y_valid, [math.ceil(predictions_lstm[i]) for i in range(len(predictions_lstm))])"
      ]
    },
    {
      "cell_type": "markdown",
      "source": [
        "Doc2vec does not implicitly states whether their pretrained model is applicable fot other languages apart from english.\n",
        "\n",
        "The first and most probable reason of models weak performance might be due to inability to distinguish russian text. Therefore let's check it."
      ],
      "metadata": {
        "id": "PudJxJEnZNJ0"
      }
    },
    {
      "cell_type": "code",
      "source": [
        "def cosine(u, v):\n",
        "    return np.dot(u, v) / (np.linalg.norm(u) * np.linalg.norm(v))\n",
        "\n",
        "sent_1 = \"Зима лучшее время года\"\n",
        "sent_2 = \"Люблю снег и холодную погоду\"\n",
        "sent_3 = \"Астероид летит по космосу\"\n",
        "\n",
        "emb_sent_1 = model_doc2vec.infer_vector(word_tokenize(sent_1.lower()))\n",
        "emb_sent_2 = model_doc2vec.infer_vector(word_tokenize(sent_2.lower()))\n",
        "emb_sent_3 = model_doc2vec.infer_vector(word_tokenize(sent_3.lower()))\n",
        "\n",
        "print(f'Cosine distance between similar sentances is {cosine(emb_sent_1, emb_sent_2)}')\n",
        "print(f'Cosine distance between different sentances are {cosine(emb_sent_1, emb_sent_3)} and {cosine(emb_sent_2, emb_sent_3)}')"
      ],
      "metadata": {
        "colab": {
          "base_uri": "https://localhost:8080/"
        },
        "id": "CxJCKCIDVK2f",
        "outputId": "7f194a74-07ba-4f8c-dea8-695c2d802327"
      },
      "execution_count": null,
      "outputs": [
        {
          "output_type": "stream",
          "name": "stdout",
          "text": [
            "Cosine distance between similar sentances is 0.09384950250387192\n",
            "Cosine distance between different sentances are -0.059831857681274414 and 0.5562050938606262\n"
          ]
        }
      ]
    },
    {
      "cell_type": "markdown",
      "source": [
        "**Model is not applicable for Russian language**"
      ],
      "metadata": {
        "id": "QwzQk4jtsFwh"
      }
    },
    {
      "cell_type": "markdown",
      "metadata": {
        "id": "JT0k3ugGsF2d"
      },
      "source": [
        "## **sBert**\n",
        "\n",
        "Application of the third representation approach."
      ]
    },
    {
      "cell_type": "code",
      "source": [
        "from transformers import AutoTokenizer, AutoModel\n",
        "import torch\n",
        "\n",
        "tokenizer = AutoTokenizer.from_pretrained(\"sberbank-ai/sbert_large_mt_nlu_ru\")\n",
        "model = AutoModel.from_pretrained(\"sberbank-ai/sbert_large_mt_nlu_ru\")\n",
        "\n",
        "def mean_pooling(model_output, attention_mask):\n",
        "    token_embeddings = model_output[0]\n",
        "    input_mask_expanded = attention_mask.unsqueeze(-1).expand(token_embeddings.size()).float()\n",
        "    sum_embeddings = torch.sum(token_embeddings * input_mask_expanded, 1)\n",
        "    sum_mask = torch.clamp(input_mask_expanded.sum(1), min=1e-9)\n",
        "    return sum_embeddings / sum_mask\n",
        "\n",
        "def sent_preprocess(sentence):\n",
        "    encoded_input = tokenizer(sentence, padding=True, return_tensors='pt')\n",
        "    with torch.no_grad():\n",
        "        model_output = model(**encoded_input)\n",
        "    sentence_embedding = mean_pooling(model_output, encoded_input['attention_mask'])\n",
        "    return np.array(sentence_embedding)"
      ],
      "metadata": {
        "colab": {
          "base_uri": "https://localhost:8080/",
          "height": 177,
          "referenced_widgets": [
            "2a3dbca3a6614f99abe2f29c8f94cf22",
            "4e8d3f6b12564123877098e1491bd264",
            "a686fad868864489bd874dc64a2fd197",
            "70b75dd94f14447b9d8ff90b914e132f",
            "6f904968b7fb4e23b58e7887ad9cd10a",
            "f74e084455514d059d7890e8fd901b55",
            "f1b0ad6644d74fccb598019f5355ab30",
            "e1a26afb856a4205b508821a35c7361b",
            "a647094d89fd4ab0b479f0b358d6929d",
            "df1868019afb440a82a708cccd1aca9b",
            "5f74d0721c4548cfab3f63a023ba5654",
            "a9ffe86b2101463f96e904283e5bf5b2",
            "da863e04d7084c789afc5db992182508",
            "9f5fd448af4a49eda49be4a7e25fc4b1",
            "79a75ba78e3146d2a1aafa94e7de120d",
            "ca6d57bb721e485da0afb896d5d2301d",
            "b5f981730e1a466892f71131a06f83bd",
            "a23484ace300481e81028707b027fdc3",
            "dcf5dee41a174944b321a47fd6f4abfb",
            "977fa7e0e2744c63b7bbd65ecde95e8f",
            "992720a8b71d409396ee3556b367b5cb",
            "9aec28d8c45d496e86236a7391b6d84a",
            "fb851682817f42f0859d52274fccff41",
            "d325356c8b4345129bf876bad65258da",
            "d09180a0932a493d84a9212be188073c",
            "cd86726db594444caf81fccb03700427",
            "1ba403532cdc4179a9528cae9759037c",
            "308b51ff85bd43758c23e48ba98bbe7e",
            "56781699e1144c3fba30b5fc224b13f6",
            "84bc92f73bcb40a2ba917b7c4a65688c",
            "97df9da2fc184825952f4f6a6623b1fd",
            "81b7142f7d98454480c1125393f29f69",
            "d67ccf9e4c054bc399850aad5295b179",
            "2849e0132e1c4d0a991073975c8a60b3",
            "a72d9de3526944e28444cb7e0f2cec17",
            "d2238e22f3bb4e82b63688413a7aa376",
            "c3605aa4e8ca4d65b306db70a89b5771",
            "0300f5f731d34cbaae32eab13f1b5478",
            "fc4d2abbab154bb58d4dbf303b78f6db",
            "995581842a4c4d9aa161dd1d52cc62ac",
            "164c8f82c0f34195947bc4e5e122680c",
            "ffc9a1c2aef7488bb82195ee84aa1643",
            "fd4fbafa7f5b4f2581bfcb15f05aa085",
            "9abe3a5c661546148ee82e2dd9f1c320",
            "51ac1885c449412892b731f92bd39484",
            "f1ce51ebec9b43b6b70a9516d1cd9b8f",
            "f7a57b91901241efb51c985b6a796af2",
            "859d1ecb362a44f18827eff4ef321b1e",
            "1bf7ae6adefc42aea8bc3066bdce4626",
            "f124e7845d2b4404bb2fd514871ec104",
            "1986e27d1d80470aa77f655e081cd911",
            "706828a0079d46bb90254500243080a3",
            "92d3ad85a4784c9999b3e8548ea2bd04",
            "f579b7da06a94d65bde02ce7a32a94ad",
            "4d8563bf90a24af787df7534da5eb0f2"
          ]
        },
        "id": "poICQN8fLM4t",
        "outputId": "b3bb5d57-fa20-47be-9751-e84289d93692"
      },
      "execution_count": null,
      "outputs": [
        {
          "output_type": "display_data",
          "data": {
            "text/plain": [
              "Downloading:   0%|          | 0.00/331 [00:00<?, ?B/s]"
            ],
            "application/vnd.jupyter.widget-view+json": {
              "version_major": 2,
              "version_minor": 0,
              "model_id": "2a3dbca3a6614f99abe2f29c8f94cf22"
            }
          },
          "metadata": {}
        },
        {
          "output_type": "display_data",
          "data": {
            "text/plain": [
              "Downloading:   0%|          | 0.00/752 [00:00<?, ?B/s]"
            ],
            "application/vnd.jupyter.widget-view+json": {
              "version_major": 2,
              "version_minor": 0,
              "model_id": "a9ffe86b2101463f96e904283e5bf5b2"
            }
          },
          "metadata": {}
        },
        {
          "output_type": "display_data",
          "data": {
            "text/plain": [
              "Downloading:   0%|          | 0.00/1.70M [00:00<?, ?B/s]"
            ],
            "application/vnd.jupyter.widget-view+json": {
              "version_major": 2,
              "version_minor": 0,
              "model_id": "fb851682817f42f0859d52274fccff41"
            }
          },
          "metadata": {}
        },
        {
          "output_type": "display_data",
          "data": {
            "text/plain": [
              "Downloading:   0%|          | 0.00/112 [00:00<?, ?B/s]"
            ],
            "application/vnd.jupyter.widget-view+json": {
              "version_major": 2,
              "version_minor": 0,
              "model_id": "2849e0132e1c4d0a991073975c8a60b3"
            }
          },
          "metadata": {}
        },
        {
          "output_type": "display_data",
          "data": {
            "text/plain": [
              "Downloading:   0%|          | 0.00/1.59G [00:00<?, ?B/s]"
            ],
            "application/vnd.jupyter.widget-view+json": {
              "version_major": 2,
              "version_minor": 0,
              "model_id": "51ac1885c449412892b731f92bd39484"
            }
          },
          "metadata": {}
        }
      ]
    },
    {
      "cell_type": "code",
      "execution_count": null,
      "metadata": {
        "id": "2rlqvWnbsF2e"
      },
      "outputs": [],
      "source": [
        "x_train = data.loc[:,'title']\n",
        "y_train = data.loc[:,'is_fake']\n",
        "x_test = test_data.loc[:,'title']\n",
        "y_test = test_data.loc[:,'is_fake']"
      ]
    },
    {
      "cell_type": "code",
      "source": [
        "import tqdm\n",
        "import numpy as np\n",
        "\n",
        "x_train_preprocessed = [sent_preprocess(sent.lower()) for sent in tqdm.tqdm(x_train)]\n",
        "x_test_preprocessed = [sent_preprocess(sent.lower()) for sent in tqdm.tqdm(x_test)]\n",
        "\n",
        "x_train_preprocessed_sbert = x_train_preprocessed\n",
        "x_test_preprocessed_sbert = x_test_preprocessed"
      ],
      "metadata": {
        "colab": {
          "base_uri": "https://localhost:8080/"
        },
        "id": "o4_h-weKipcq",
        "outputId": "1872685f-241a-4529-ec66-9e9db2183791"
      },
      "execution_count": null,
      "outputs": [
        {
          "output_type": "stream",
          "name": "stderr",
          "text": [
            "100%|██████████| 5758/5758 [44:05<00:00,  2.18it/s]\n",
            "100%|██████████| 1000/1000 [06:47<00:00,  2.46it/s]\n"
          ]
        }
      ]
    },
    {
      "cell_type": "code",
      "source": [
        "size = len(x_train)\n",
        "\n",
        "x_valid_preprocessed = x_train_preprocessed[5001:size]\n",
        "x_train_preprocessed = x_train_preprocessed[0:5000]\n",
        "\n",
        "y_valid = y_train[5001:size]\n",
        "y_train = y_train[0:5000]\n",
        "\n",
        "print(len(x_valid_preprocessed))\n",
        "print(len(x_train_preprocessed))\n",
        "print(len(y_valid))\n",
        "print(len(y_train))"
      ],
      "metadata": {
        "colab": {
          "base_uri": "https://localhost:8080/"
        },
        "id": "IC3bVPGGjHVG",
        "outputId": "69158148-cd26-4233-f282-d5ad51ca7997"
      },
      "execution_count": null,
      "outputs": [
        {
          "output_type": "stream",
          "name": "stdout",
          "text": [
            "757\n",
            "5000\n",
            "757\n",
            "5000\n"
          ]
        }
      ]
    },
    {
      "cell_type": "markdown",
      "metadata": {
        "id": "XKt2ae4ysF2f"
      },
      "source": [
        "### **General classifier**"
      ]
    },
    {
      "cell_type": "code",
      "execution_count": null,
      "metadata": {
        "colab": {
          "base_uri": "https://localhost:8080/"
        },
        "outputId": "138c71d1-66b9-41c8-e8c2-773624101463",
        "id": "DKCeRVdIsF2f"
      },
      "outputs": [
        {
          "output_type": "stream",
          "name": "stderr",
          "text": [
            "/usr/local/lib/python3.7/dist-packages/sklearn/utils/deprecation.py:143: FutureWarning: The sklearn.utils.testing module is  deprecated in version 0.22 and will be removed in version 0.24. The corresponding classes / functions should instead be imported from sklearn.utils. Anything that cannot be imported from sklearn.utils is now part of the private API.\n",
            "  warnings.warn(message, FutureWarning)\n",
            "100%|██████████| 29/29 [06:35<00:00, 13.63s/it]"
          ]
        },
        {
          "output_type": "stream",
          "name": "stdout",
          "text": [
            "                               Accuracy  Balanced Accuracy  ROC AUC  F1 Score  \\\n",
            "Model                                                                           \n",
            "RidgeClassifierCV                  0.89               0.89     0.89      0.89   \n",
            "SVC                                0.89               0.89     0.89      0.89   \n",
            "RidgeClassifier                    0.89               0.89     0.89      0.89   \n",
            "LinearDiscriminantAnalysis         0.88               0.88     0.88      0.88   \n",
            "LogisticRegression                 0.88               0.88     0.88      0.88   \n",
            "NuSVC                              0.88               0.88     0.88      0.88   \n",
            "QuadraticDiscriminantAnalysis      0.87               0.87     0.87      0.87   \n",
            "XGBClassifier                      0.87               0.87     0.87      0.87   \n",
            "CalibratedClassifierCV             0.87               0.87     0.87      0.87   \n",
            "LGBMClassifier                     0.87               0.87     0.87      0.87   \n",
            "SGDClassifier                      0.86               0.86     0.86      0.86   \n",
            "Perceptron                         0.85               0.86     0.86      0.85   \n",
            "KNeighborsClassifier               0.85               0.85     0.85      0.85   \n",
            "LinearSVC                          0.85               0.85     0.85      0.85   \n",
            "PassiveAggressiveClassifier        0.85               0.85     0.85      0.85   \n",
            "ExtraTreesClassifier               0.85               0.85     0.85      0.85   \n",
            "RandomForestClassifier             0.84               0.84     0.84      0.84   \n",
            "AdaBoostClassifier                 0.84               0.84     0.84      0.84   \n",
            "BaggingClassifier                  0.81               0.81     0.81      0.81   \n",
            "GaussianNB                         0.81               0.81     0.81      0.81   \n",
            "NearestCentroid                    0.80               0.80     0.80      0.80   \n",
            "BernoulliNB                        0.80               0.80     0.80      0.80   \n",
            "DecisionTreeClassifier             0.77               0.77     0.77      0.77   \n",
            "ExtraTreeClassifier                0.65               0.65     0.65      0.65   \n",
            "LabelSpreading                     0.49               0.50     0.50      0.32   \n",
            "LabelPropagation                   0.49               0.50     0.50      0.32   \n",
            "DummyClassifier                    0.47               0.47     0.47      0.47   \n",
            "\n",
            "                               Time Taken  \n",
            "Model                                      \n",
            "RidgeClassifierCV                    6.20  \n",
            "SVC                                 26.67  \n",
            "RidgeClassifier                      0.87  \n",
            "LinearDiscriminantAnalysis           3.57  \n",
            "LogisticRegression                   1.11  \n",
            "NuSVC                               40.71  \n",
            "QuadraticDiscriminantAnalysis        3.80  \n",
            "XGBClassifier                       73.15  \n",
            "CalibratedClassifierCV              23.55  \n",
            "LGBMClassifier                      37.70  \n",
            "SGDClassifier                        1.14  \n",
            "Perceptron                           0.65  \n",
            "KNeighborsClassifier                10.66  \n",
            "LinearSVC                            6.60  \n",
            "PassiveAggressiveClassifier          0.89  \n",
            "ExtraTreesClassifier                 3.56  \n",
            "RandomForestClassifier              25.41  \n",
            "AdaBoostClassifier                  43.31  \n",
            "BaggingClassifier                   66.85  \n",
            "GaussianNB                           0.45  \n",
            "NearestCentroid                      0.30  \n",
            "BernoulliNB                          0.47  \n",
            "DecisionTreeClassifier               9.94  \n",
            "ExtraTreeClassifier                  0.30  \n",
            "LabelSpreading                       3.38  \n",
            "LabelPropagation                     3.33  \n",
            "DummyClassifier                      0.28  \n"
          ]
        },
        {
          "output_type": "stream",
          "name": "stderr",
          "text": [
            "\n"
          ]
        }
      ],
      "source": [
        "from lazypredict.Supervised import LazyClassifier\n",
        "\n",
        "vector_size = 1024\n",
        "\n",
        "clf = LazyClassifier(verbose=0,ignore_warnings=True, custom_metric=None)\n",
        "models,predictions = clf.fit(np.array(x_train_preprocessed).reshape([len(x_train_preprocessed),vector_size]), np.array(x_valid_preprocessed).reshape([len(x_valid_preprocessed),vector_size]), y_train, y_valid)\n",
        "\n",
        "print(models)"
      ]
    },
    {
      "cell_type": "code",
      "execution_count": null,
      "metadata": {
        "colab": {
          "base_uri": "https://localhost:8080/"
        },
        "outputId": "32796324-5f1b-4728-c7d6-6e63bef78fae",
        "id": "LMvCSdQmsF2f"
      },
      "outputs": [
        {
          "output_type": "stream",
          "name": "stdout",
          "text": [
            "677 757\n"
          ]
        }
      ],
      "source": [
        "models = clf.provide_models(np.array(x_train_preprocessed).reshape([len(x_train_preprocessed),vector_size]), np.array(x_valid_preprocessed).reshape([len(x_valid_preprocessed),vector_size]), y_train, y_valid)\n",
        "predictions = models['RidgeClassifierCV'].predict(np.array(x_valid_preprocessed).reshape([len(x_valid_preprocessed),vector_size]))\n",
        "\n",
        "print(sum([predictions[i] == np.array(y_valid)[i] for i in range(len(x_valid_preprocessed))]), len(x_valid_preprocessed))"
      ]
    },
    {
      "cell_type": "code",
      "execution_count": null,
      "metadata": {
        "colab": {
          "base_uri": "https://localhost:8080/",
          "height": 521
        },
        "outputId": "13043200-2de2-41ea-f73e-dd2aec3181db",
        "id": "pslKz8DJsF2f"
      },
      "outputs": [
        {
          "output_type": "stream",
          "name": "stdout",
          "text": [
            "sBERT, best general classifier\n",
            "F-measure or f1-score:  0.8947368421052632\n",
            "AUC:  0.8948984296412206\n",
            "Classification Report:\n",
            "              precision    recall  f1-score   support\n",
            "\n",
            "           1     0.9164    0.8740    0.8947       389\n",
            "           0     0.8731    0.9158    0.8939       368\n",
            "\n",
            "    accuracy                         0.8943       757\n",
            "   macro avg     0.8947    0.8949    0.8943       757\n",
            "weighted avg     0.8954    0.8943    0.8943       757\n",
            "\n"
          ]
        },
        {
          "output_type": "display_data",
          "data": {
            "text/plain": [
              "<Figure size 432x288 with 2 Axes>"
            ],
            "image/png": "[encoded data removed]"
          },
          "metadata": {
            "needs_background": "light"
          }
        }
      ],
      "source": [
        "# model evaluation\n",
        "from sklearn.metrics import f1_score\n",
        "import matplotlib.pyplot as plt\n",
        "import seaborn as sns\n",
        "\n",
        "print(\"sBERT, best general classifier\")\n",
        "print(\"F-measure or f1-score: \", f1_score(y_valid, predictions))\n",
        "# print(\"Log loss: \", log_loss(y_test, predictions))\n",
        "\n",
        "fpr, tpr, thresholds = roc_curve(y_valid, predictions)\n",
        "\n",
        "print(\"AUC: \", auc(fpr, tpr))\n",
        "\n",
        "eval(y_valid, predictions)"
      ]
    },
    {
      "cell_type": "markdown",
      "metadata": {
        "id": "00Kq08wAsF2f"
      },
      "source": [
        "### **LSTM classifier**"
      ]
    },
    {
      "cell_type": "code",
      "execution_count": null,
      "metadata": {
        "id": "R4xmvczvsF2f"
      },
      "outputs": [],
      "source": [
        "import pandas as pd\n",
        "import numpy as np\n",
        "from keras.models import Sequential\n",
        "from keras.layers import LSTM, Dense, Dropout\n",
        "from keras.callbacks import EarlyStopping, ModelCheckpoint\n",
        "from matplotlib import pyplot\n",
        "from keras.layers import Bidirectional"
      ]
    },
    {
      "cell_type": "code",
      "execution_count": null,
      "metadata": {
        "colab": {
          "base_uri": "https://localhost:8080/"
        },
        "outputId": "1f39858d-5e0a-4453-e68d-b04ed9ed6f65",
        "id": "BdxbcD_UsF2g"
      },
      "outputs": [
        {
          "output_type": "stream",
          "name": "stdout",
          "text": [
            "Epoch 1/50\n",
            "40/40 [==============================] - 7s 44ms/step - loss: 0.3723 - val_loss: 0.3003\n",
            "Epoch 2/50\n",
            "40/40 [==============================] - 1s 21ms/step - loss: 0.2631 - val_loss: 0.2822\n",
            "Epoch 3/50\n",
            "40/40 [==============================] - 1s 20ms/step - loss: 0.2279 - val_loss: 0.2647\n",
            "Epoch 4/50\n",
            "40/40 [==============================] - 1s 20ms/step - loss: 0.1924 - val_loss: 0.2664\n",
            "Epoch 5/50\n",
            "40/40 [==============================] - 1s 20ms/step - loss: 0.1667 - val_loss: 0.2803\n",
            "Epoch 6/50\n",
            "40/40 [==============================] - 1s 21ms/step - loss: 0.1364 - val_loss: 0.2868\n",
            "Epoch 7/50\n",
            "40/40 [==============================] - 1s 21ms/step - loss: 0.1290 - val_loss: 0.2662\n",
            "Epoch 8/50\n",
            "40/40 [==============================] - 1s 20ms/step - loss: 0.0842 - val_loss: 0.2937\n",
            "Epoch 9/50\n",
            "40/40 [==============================] - 1s 20ms/step - loss: 0.0646 - val_loss: 0.2832\n",
            "Epoch 10/50\n",
            "40/40 [==============================] - 1s 20ms/step - loss: 0.0506 - val_loss: 0.3051\n"
          ]
        },
        {
          "output_type": "execute_result",
          "data": {
            "text/plain": [
              "<keras.callbacks.History at 0x7fea432289d0>"
            ]
          },
          "metadata": {},
          "execution_count": 28
        }
      ],
      "source": [
        "lstm = Sequential()\n",
        "lstm.add(Bidirectional(LSTM(100, return_sequences=False)))\n",
        "lstm.add(Dense(1, activation='sigmoid'))\n",
        "\n",
        "callback = EarlyStopping(monitor='val_loss', patience=7)\n",
        "\n",
        "lstm.compile(loss='binary_crossentropy', optimizer='adam')\n",
        "lstm.fit(np.array(x_train_preprocessed).reshape([len(x_train_preprocessed),1,vector_size]), y_train, validation_data=(np.array(x_valid_preprocessed).reshape([len(x_valid_preprocessed),1,vector_size]), y_valid), epochs=50, batch_size=128, verbose=1, shuffle=True, callbacks=[callback])\n"
      ]
    },
    {
      "cell_type": "code",
      "execution_count": null,
      "metadata": {
        "colab": {
          "base_uri": "https://localhost:8080/"
        },
        "outputId": "834136a6-131e-4995-9ece-9a3c514dc7dc",
        "id": "YQJpVjJosF2g"
      },
      "outputs": [
        {
          "output_type": "stream",
          "name": "stdout",
          "text": [
            "389 757\n"
          ]
        }
      ],
      "source": [
        "import math\n",
        "\n",
        "predictions_lstm = lstm.predict(np.array(x_valid_preprocessed).reshape([len(x_valid_preprocessed),1,vector_size]))\n",
        "\n",
        "print(sum([math.ceil(predictions_lstm[i]) == np.array(y_valid)[i] for i in range(len(x_valid_preprocessed))]), len(x_valid_preprocessed))"
      ]
    },
    {
      "cell_type": "code",
      "execution_count": null,
      "metadata": {
        "colab": {
          "base_uri": "https://localhost:8080/",
          "height": 573
        },
        "outputId": "78d4e62e-a001-48cf-fb27-9f7f3c027e60",
        "id": "xUwpUwRwsF2g"
      },
      "outputs": [
        {
          "output_type": "stream",
          "name": "stdout",
          "text": [
            "SBERT, LSTM\n",
            "F-measure or f1-score:  0.6788830715532287\n",
            "Log loss:  0.30510696953777494\n",
            "Log loss:  16.790705370120794\n",
            "AUC:  0.9586243992399688\n",
            "AUC:  0.5\n",
            "Classification Report:\n",
            "              precision    recall  f1-score   support\n",
            "\n",
            "           1     0.5139    1.0000    0.6789       389\n",
            "           0     0.0000    0.0000    0.0000       368\n",
            "\n",
            "    accuracy                         0.5139       757\n",
            "   macro avg     0.2569    0.5000    0.3394       757\n",
            "weighted avg     0.2641    0.5139    0.3489       757\n",
            "\n"
          ]
        },
        {
          "output_type": "display_data",
          "data": {
            "text/plain": [
              "<Figure size 432x288 with 2 Axes>"
            ],
            "image/png": "[encoded data removed]"
          },
          "metadata": {
            "needs_background": "light"
          }
        }
      ],
      "source": [
        "# model evaluation\n",
        "from sklearn.metrics import f1_score\n",
        "import matplotlib.pyplot as plt\n",
        "import seaborn as sns\n",
        "\n",
        "print(\"SBERT, LSTM\")\n",
        "print(\"F-measure or f1-score: \", f1_score(y_valid, [math.ceil(predictions_lstm[i]) for i in range(len(predictions_lstm))]))\n",
        "print(\"Log loss: \", log_loss(y_valid, predictions_lstm))\n",
        "print(\"Log loss: \", log_loss(y_valid, [math.ceil(predictions_lstm[i]) for i in range(len(predictions_lstm))]))\n",
        "\n",
        "fpr, tpr, thresholds = roc_curve(y_valid, predictions_lstm)\n",
        "\n",
        "print(\"AUC: \", auc(fpr, tpr))\n",
        "\n",
        "fpr, tpr, thresholds = roc_curve(y_valid,[math.ceil(predictions_lstm[i]) for i in range(len(predictions_lstm))])\n",
        "\n",
        "print(\"AUC: \", auc(fpr, tpr))\n",
        "\n",
        "eval(y_valid, [math.ceil(predictions_lstm[i]) for i in range(len(predictions_lstm))])"
      ]
    },
    {
      "cell_type": "markdown",
      "source": [
        "Save results of sBert"
      ],
      "metadata": {
        "id": "7lOKUzt3mOvN"
      }
    },
    {
      "cell_type": "code",
      "source": [
        "## save results of simple classifier trained on sBERT\n",
        "\n",
        "outputs = test_data.copy()\n",
        "SVC\n",
        "predictions = models['RidgeClassifierCV'].predict(np.array(x_test_preprocessed).reshape([len(x_test_preprocessed),vector_size]))\n",
        "\n",
        "outputs['is_fake'] = predictions"
      ],
      "metadata": {
        "id": "KL_JUU-HuvcI"
      },
      "execution_count": null,
      "outputs": []
    },
    {
      "cell_type": "code",
      "source": [
        "outputs"
      ],
      "metadata": {
        "colab": {
          "base_uri": "https://localhost:8080/",
          "height": 424
        },
        "id": "U8H2nYs-viuA",
        "outputId": "a5c6424b-360a-40a8-de9c-14bee7948ad2"
      },
      "execution_count": null,
      "outputs": [
        {
          "output_type": "execute_result",
          "data": {
            "text/plain": [
              "                                                 title  is_fake\n",
              "0    Роскомнадзор представил реестр сочетаний цвето...        1\n",
              "1    Ночью под Минском на президентской горе Белара...        1\n",
              "2    Бывший спичрайтер Юрия Лозы рассказал о трудно...        1\n",
              "3    Сельская церковь, собравшая рекордно низкое ко...        1\n",
              "4    Акции Google рухнули после объявления о переза...        0\n",
              "..                                                 ...      ...\n",
              "995  Прокуратура заподозрила Явлинского в авторитар...        0\n",
              "996  В День Победы стратегические ракетоносцы Ту-16...        1\n",
              "997  СК возбудил дело против авиакомпании «Победа» ...        1\n",
              "998  Криптомонетный двор Туркменистана выпустил юби...        1\n",
              "999  Deutsche Bahn заплатит рекордный штраф за чтен...        1\n",
              "\n",
              "[1000 rows x 2 columns]"
            ],
            "text/html": [
              "\n",
              "  <div id=\"df-82b05400-153a-4c29-b590-50bf65a526fa\">\n",
              "    <div class=\"colab-df-container\">\n",
              "      <div>\n",
              "<style scoped>\n",
              "    .dataframe tbody tr th:only-of-type {\n",
              "        vertical-align: middle;\n",
              "    }\n",
              "\n",
              "    .dataframe tbody tr th {\n",
              "        vertical-align: top;\n",
              "    }\n",
              "\n",
              "    .dataframe thead th {\n",
              "        text-align: right;\n",
              "    }\n",
              "</style>\n",
              "<table border=\"1\" class=\"dataframe\">\n",
              "  <thead>\n",
              "    <tr style=\"text-align: right;\">\n",
              "      <th></th>\n",
              "      <th>title</th>\n",
              "      <th>is_fake</th>\n",
              "    </tr>\n",
              "  </thead>\n",
              "  <tbody>\n",
              "    <tr>\n",
              "      <th>0</th>\n",
              "      <td>Роскомнадзор представил реестр сочетаний цвето...</td>\n",
              "      <td>1</td>\n",
              "    </tr>\n",
              "    <tr>\n",
              "      <th>1</th>\n",
              "      <td>Ночью под Минском на президентской горе Белара...</td>\n",
              "      <td>1</td>\n",
              "    </tr>\n",
              "    <tr>\n",
              "      <th>2</th>\n",
              "      <td>Бывший спичрайтер Юрия Лозы рассказал о трудно...</td>\n",
              "      <td>1</td>\n",
              "    </tr>\n",
              "    <tr>\n",
              "      <th>3</th>\n",
              "      <td>Сельская церковь, собравшая рекордно низкое ко...</td>\n",
              "      <td>1</td>\n",
              "    </tr>\n",
              "    <tr>\n",
              "      <th>4</th>\n",
              "      <td>Акции Google рухнули после объявления о переза...</td>\n",
              "      <td>0</td>\n",
              "    </tr>\n",
              "    <tr>\n",
              "      <th>...</th>\n",
              "      <td>...</td>\n",
              "      <td>...</td>\n",
              "    </tr>\n",
              "    <tr>\n",
              "      <th>995</th>\n",
              "      <td>Прокуратура заподозрила Явлинского в авторитар...</td>\n",
              "      <td>0</td>\n",
              "    </tr>\n",
              "    <tr>\n",
              "      <th>996</th>\n",
              "      <td>В День Победы стратегические ракетоносцы Ту-16...</td>\n",
              "      <td>1</td>\n",
              "    </tr>\n",
              "    <tr>\n",
              "      <th>997</th>\n",
              "      <td>СК возбудил дело против авиакомпании «Победа» ...</td>\n",
              "      <td>1</td>\n",
              "    </tr>\n",
              "    <tr>\n",
              "      <th>998</th>\n",
              "      <td>Криптомонетный двор Туркменистана выпустил юби...</td>\n",
              "      <td>1</td>\n",
              "    </tr>\n",
              "    <tr>\n",
              "      <th>999</th>\n",
              "      <td>Deutsche Bahn заплатит рекордный штраф за чтен...</td>\n",
              "      <td>1</td>\n",
              "    </tr>\n",
              "  </tbody>\n",
              "</table>\n",
              "<p>1000 rows × 2 columns</p>\n",
              "</div>\n",
              "      <button class=\"colab-df-convert\" onclick=\"convertToInteractive('df-82b05400-153a-4c29-b590-50bf65a526fa')\"\n",
              "              title=\"Convert this dataframe to an interactive table.\"\n",
              "              style=\"display:none;\">\n",
              "        \n",
              "  <svg xmlns=\"http://www.w3.org/2000/svg\" height=\"24px\"viewBox=\"0 0 24 24\"\n",
              "       width=\"24px\">\n",
              "    <path d=\"M0 0h24v24H0V0z\" fill=\"none\"/>\n",
              "    <path d=\"M18.56 5.44l.94 2.06.94-2.06 2.06-.94-2.06-.94-.94-2.06-.94 2.06-2.06.94zm-11 1L8.5 8.5l.94-2.06 2.06-.94-2.06-.94L8.5 2.5l-.94 2.06-2.06.94zm10 10l.94 2.06.94-2.06 2.06-.94-2.06-.94-.94-2.06-.94 2.06-2.06.94z\"/><path d=\"M17.41 7.96l-1.37-1.37c-.4-.4-.92-.59-1.43-.59-.52 0-1.04.2-1.43.59L10.3 9.45l-7.72 7.72c-.78.78-.78 2.05 0 2.83L4 21.41c.39.39.9.59 1.41.59.51 0 1.02-.2 1.41-.59l7.78-7.78 2.81-2.81c.8-.78.8-2.07 0-2.86zM5.41 20L4 18.59l7.72-7.72 1.47 1.35L5.41 20z\"/>\n",
              "  </svg>\n",
              "      </button>\n",
              "      \n",
              "  <style>\n",
              "    .colab-df-container {\n",
              "      display:flex;\n",
              "      flex-wrap:wrap;\n",
              "      gap: 12px;\n",
              "    }\n",
              "\n",
              "    .colab-df-convert {\n",
              "      background-color: #E8F0FE;\n",
              "      border: none;\n",
              "      border-radius: 50%;\n",
              "      cursor: pointer;\n",
              "      display: none;\n",
              "      fill: #1967D2;\n",
              "      height: 32px;\n",
              "      padding: 0 0 0 0;\n",
              "      width: 32px;\n",
              "    }\n",
              "\n",
              "    .colab-df-convert:hover {\n",
              "      background-color: #E2EBFA;\n",
              "      box-shadow: 0px 1px 2px rgba(60, 64, 67, 0.3), 0px 1px 3px 1px rgba(60, 64, 67, 0.15);\n",
              "      fill: #174EA6;\n",
              "    }\n",
              "\n",
              "    [theme=dark] .colab-df-convert {\n",
              "      background-color: #3B4455;\n",
              "      fill: #D2E3FC;\n",
              "    }\n",
              "\n",
              "    [theme=dark] .colab-df-convert:hover {\n",
              "      background-color: #434B5C;\n",
              "      box-shadow: 0px 1px 3px 1px rgba(0, 0, 0, 0.15);\n",
              "      filter: drop-shadow(0px 1px 2px rgba(0, 0, 0, 0.3));\n",
              "      fill: #FFFFFF;\n",
              "    }\n",
              "  </style>\n",
              "\n",
              "      <script>\n",
              "        const buttonEl =\n",
              "          document.querySelector('#df-82b05400-153a-4c29-b590-50bf65a526fa button.colab-df-convert');\n",
              "        buttonEl.style.display =\n",
              "          google.colab.kernel.accessAllowed ? 'block' : 'none';\n",
              "\n",
              "        async function convertToInteractive(key) {\n",
              "          const element = document.querySelector('#df-82b05400-153a-4c29-b590-50bf65a526fa');\n",
              "          const dataTable =\n",
              "            await google.colab.kernel.invokeFunction('convertToInteractive',\n",
              "                                                     [key], {});\n",
              "          if (!dataTable) return;\n",
              "\n",
              "          const docLinkHtml = 'Like what you see? Visit the ' +\n",
              "            '<a target=\"_blank\" href=https://colab.research.google.com/notebooks/data_table.ipynb>data table notebook</a>'\n",
              "            + ' to learn more about interactive tables.';\n",
              "          element.innerHTML = '';\n",
              "          dataTable['output_type'] = 'display_data';\n",
              "          await google.colab.output.renderOutput(dataTable, element);\n",
              "          const docLink = document.createElement('div');\n",
              "          docLink.innerHTML = docLinkHtml;\n",
              "          element.appendChild(docLink);\n",
              "        }\n",
              "      </script>\n",
              "    </div>\n",
              "  </div>\n",
              "  "
            ]
          },
          "metadata": {},
          "execution_count": 56
        }
      ]
    },
    {
      "cell_type": "code",
      "source": [
        "test_data"
      ],
      "metadata": {
        "colab": {
          "base_uri": "https://localhost:8080/",
          "height": 424
        },
        "id": "xBqbA_uQw2sU",
        "outputId": "cd2cb2e4-b0b5-4f9e-fce3-76b1987d38b1"
      },
      "execution_count": null,
      "outputs": [
        {
          "output_type": "execute_result",
          "data": {
            "text/plain": [
              "                                                 title  is_fake\n",
              "0    Роскомнадзор представил реестр сочетаний цвето...        0\n",
              "1    Ночью под Минском на президентской горе Белара...        0\n",
              "2    Бывший спичрайтер Юрия Лозы рассказал о трудно...        0\n",
              "3    Сельская церковь, собравшая рекордно низкое ко...        0\n",
              "4    Акции Google рухнули после объявления о переза...        0\n",
              "..                                                 ...      ...\n",
              "995  Прокуратура заподозрила Явлинского в авторитар...        0\n",
              "996  В День Победы стратегические ракетоносцы Ту-16...        0\n",
              "997  СК возбудил дело против авиакомпании «Победа» ...        0\n",
              "998  Криптомонетный двор Туркменистана выпустил юби...        0\n",
              "999  Deutsche Bahn заплатит рекордный штраф за чтен...        0\n",
              "\n",
              "[1000 rows x 2 columns]"
            ],
            "text/html": [
              "\n",
              "  <div id=\"df-786651ea-920b-4d3e-866a-30b3152a64e7\">\n",
              "    <div class=\"colab-df-container\">\n",
              "      <div>\n",
              "<style scoped>\n",
              "    .dataframe tbody tr th:only-of-type {\n",
              "        vertical-align: middle;\n",
              "    }\n",
              "\n",
              "    .dataframe tbody tr th {\n",
              "        vertical-align: top;\n",
              "    }\n",
              "\n",
              "    .dataframe thead th {\n",
              "        text-align: right;\n",
              "    }\n",
              "</style>\n",
              "<table border=\"1\" class=\"dataframe\">\n",
              "  <thead>\n",
              "    <tr style=\"text-align: right;\">\n",
              "      <th></th>\n",
              "      <th>title</th>\n",
              "      <th>is_fake</th>\n",
              "    </tr>\n",
              "  </thead>\n",
              "  <tbody>\n",
              "    <tr>\n",
              "      <th>0</th>\n",
              "      <td>Роскомнадзор представил реестр сочетаний цвето...</td>\n",
              "      <td>0</td>\n",
              "    </tr>\n",
              "    <tr>\n",
              "      <th>1</th>\n",
              "      <td>Ночью под Минском на президентской горе Белара...</td>\n",
              "      <td>0</td>\n",
              "    </tr>\n",
              "    <tr>\n",
              "      <th>2</th>\n",
              "      <td>Бывший спичрайтер Юрия Лозы рассказал о трудно...</td>\n",
              "      <td>0</td>\n",
              "    </tr>\n",
              "    <tr>\n",
              "      <th>3</th>\n",
              "      <td>Сельская церковь, собравшая рекордно низкое ко...</td>\n",
              "      <td>0</td>\n",
              "    </tr>\n",
              "    <tr>\n",
              "      <th>4</th>\n",
              "      <td>Акции Google рухнули после объявления о переза...</td>\n",
              "      <td>0</td>\n",
              "    </tr>\n",
              "    <tr>\n",
              "      <th>...</th>\n",
              "      <td>...</td>\n",
              "      <td>...</td>\n",
              "    </tr>\n",
              "    <tr>\n",
              "      <th>995</th>\n",
              "      <td>Прокуратура заподозрила Явлинского в авторитар...</td>\n",
              "      <td>0</td>\n",
              "    </tr>\n",
              "    <tr>\n",
              "      <th>996</th>\n",
              "      <td>В День Победы стратегические ракетоносцы Ту-16...</td>\n",
              "      <td>0</td>\n",
              "    </tr>\n",
              "    <tr>\n",
              "      <th>997</th>\n",
              "      <td>СК возбудил дело против авиакомпании «Победа» ...</td>\n",
              "      <td>0</td>\n",
              "    </tr>\n",
              "    <tr>\n",
              "      <th>998</th>\n",
              "      <td>Криптомонетный двор Туркменистана выпустил юби...</td>\n",
              "      <td>0</td>\n",
              "    </tr>\n",
              "    <tr>\n",
              "      <th>999</th>\n",
              "      <td>Deutsche Bahn заплатит рекордный штраф за чтен...</td>\n",
              "      <td>0</td>\n",
              "    </tr>\n",
              "  </tbody>\n",
              "</table>\n",
              "<p>1000 rows × 2 columns</p>\n",
              "</div>\n",
              "      <button class=\"colab-df-convert\" onclick=\"convertToInteractive('df-786651ea-920b-4d3e-866a-30b3152a64e7')\"\n",
              "              title=\"Convert this dataframe to an interactive table.\"\n",
              "              style=\"display:none;\">\n",
              "        \n",
              "  <svg xmlns=\"http://www.w3.org/2000/svg\" height=\"24px\"viewBox=\"0 0 24 24\"\n",
              "       width=\"24px\">\n",
              "    <path d=\"M0 0h24v24H0V0z\" fill=\"none\"/>\n",
              "    <path d=\"M18.56 5.44l.94 2.06.94-2.06 2.06-.94-2.06-.94-.94-2.06-.94 2.06-2.06.94zm-11 1L8.5 8.5l.94-2.06 2.06-.94-2.06-.94L8.5 2.5l-.94 2.06-2.06.94zm10 10l.94 2.06.94-2.06 2.06-.94-2.06-.94-.94-2.06-.94 2.06-2.06.94z\"/><path d=\"M17.41 7.96l-1.37-1.37c-.4-.4-.92-.59-1.43-.59-.52 0-1.04.2-1.43.59L10.3 9.45l-7.72 7.72c-.78.78-.78 2.05 0 2.83L4 21.41c.39.39.9.59 1.41.59.51 0 1.02-.2 1.41-.59l7.78-7.78 2.81-2.81c.8-.78.8-2.07 0-2.86zM5.41 20L4 18.59l7.72-7.72 1.47 1.35L5.41 20z\"/>\n",
              "  </svg>\n",
              "      </button>\n",
              "      \n",
              "  <style>\n",
              "    .colab-df-container {\n",
              "      display:flex;\n",
              "      flex-wrap:wrap;\n",
              "      gap: 12px;\n",
              "    }\n",
              "\n",
              "    .colab-df-convert {\n",
              "      background-color: #E8F0FE;\n",
              "      border: none;\n",
              "      border-radius: 50%;\n",
              "      cursor: pointer;\n",
              "      display: none;\n",
              "      fill: #1967D2;\n",
              "      height: 32px;\n",
              "      padding: 0 0 0 0;\n",
              "      width: 32px;\n",
              "    }\n",
              "\n",
              "    .colab-df-convert:hover {\n",
              "      background-color: #E2EBFA;\n",
              "      box-shadow: 0px 1px 2px rgba(60, 64, 67, 0.3), 0px 1px 3px 1px rgba(60, 64, 67, 0.15);\n",
              "      fill: #174EA6;\n",
              "    }\n",
              "\n",
              "    [theme=dark] .colab-df-convert {\n",
              "      background-color: #3B4455;\n",
              "      fill: #D2E3FC;\n",
              "    }\n",
              "\n",
              "    [theme=dark] .colab-df-convert:hover {\n",
              "      background-color: #434B5C;\n",
              "      box-shadow: 0px 1px 3px 1px rgba(0, 0, 0, 0.15);\n",
              "      filter: drop-shadow(0px 1px 2px rgba(0, 0, 0, 0.3));\n",
              "      fill: #FFFFFF;\n",
              "    }\n",
              "  </style>\n",
              "\n",
              "      <script>\n",
              "        const buttonEl =\n",
              "          document.querySelector('#df-786651ea-920b-4d3e-866a-30b3152a64e7 button.colab-df-convert');\n",
              "        buttonEl.style.display =\n",
              "          google.colab.kernel.accessAllowed ? 'block' : 'none';\n",
              "\n",
              "        async function convertToInteractive(key) {\n",
              "          const element = document.querySelector('#df-786651ea-920b-4d3e-866a-30b3152a64e7');\n",
              "          const dataTable =\n",
              "            await google.colab.kernel.invokeFunction('convertToInteractive',\n",
              "                                                     [key], {});\n",
              "          if (!dataTable) return;\n",
              "\n",
              "          const docLinkHtml = 'Like what you see? Visit the ' +\n",
              "            '<a target=\"_blank\" href=https://colab.research.google.com/notebooks/data_table.ipynb>data table notebook</a>'\n",
              "            + ' to learn more about interactive tables.';\n",
              "          element.innerHTML = '';\n",
              "          dataTable['output_type'] = 'display_data';\n",
              "          await google.colab.output.renderOutput(dataTable, element);\n",
              "          const docLink = document.createElement('div');\n",
              "          docLink.innerHTML = docLinkHtml;\n",
              "          element.appendChild(docLink);\n",
              "        }\n",
              "      </script>\n",
              "    </div>\n",
              "  </div>\n",
              "  "
            ]
          },
          "metadata": {},
          "execution_count": 57
        }
      ]
    },
    {
      "cell_type": "code",
      "source": [
        "outputs.to_csv(\"predictions.tsv\", sep=\"\\t\", columns=['title', 'is_fake'], index=False)"
      ],
      "metadata": {
        "id": "SEsfSOTwxS9V"
      },
      "execution_count": null,
      "outputs": []
    },
    {
      "cell_type": "markdown",
      "source": [
        "Save results of LaBSE model"
      ],
      "metadata": {
        "id": "0hq38ka7mCR3"
      }
    },
    {
      "cell_type": "code",
      "source": [
        "## save results of simple classifier trained on LaBse\n",
        "\n",
        "outputs = test_data.copy()\n",
        "predictions = models['SVC'].predict(np.array(x_test_preprocessed).reshape([len(x_test_preprocessed),vector_size]))\n",
        "\n",
        "outputs['is_fake'] = predictions"
      ],
      "metadata": {
        "id": "DwaniKcGmBl7"
      },
      "execution_count": null,
      "outputs": []
    },
    {
      "cell_type": "code",
      "source": [
        "outputs"
      ],
      "metadata": {
        "colab": {
          "base_uri": "https://localhost:8080/",
          "height": 424
        },
        "id": "mUHhOo1XmVa1",
        "outputId": "dfb5c61c-37bb-418a-cc99-b05b2b3c061d"
      },
      "execution_count": null,
      "outputs": [
        {
          "output_type": "execute_result",
          "data": {
            "text/plain": [
              "                                                 title  is_fake\n",
              "0    Роскомнадзор представил реестр сочетаний цвето...        1\n",
              "1    Ночью под Минском на президентской горе Белара...        1\n",
              "2    Бывший спичрайтер Юрия Лозы рассказал о трудно...        1\n",
              "3    Сельская церковь, собравшая рекордно низкое ко...        1\n",
              "4    Акции Google рухнули после объявления о переза...        0\n",
              "..                                                 ...      ...\n",
              "995  Прокуратура заподозрила Явлинского в авторитар...        1\n",
              "996  В День Победы стратегические ракетоносцы Ту-16...        1\n",
              "997  СК возбудил дело против авиакомпании «Победа» ...        0\n",
              "998  Криптомонетный двор Туркменистана выпустил юби...        1\n",
              "999  Deutsche Bahn заплатит рекордный штраф за чтен...        1\n",
              "\n",
              "[1000 rows x 2 columns]"
            ],
            "text/html": [
              "\n",
              "  <div id=\"df-fd63a26a-9081-497b-a021-d635cfa8f8de\">\n",
              "    <div class=\"colab-df-container\">\n",
              "      <div>\n",
              "<style scoped>\n",
              "    .dataframe tbody tr th:only-of-type {\n",
              "        vertical-align: middle;\n",
              "    }\n",
              "\n",
              "    .dataframe tbody tr th {\n",
              "        vertical-align: top;\n",
              "    }\n",
              "\n",
              "    .dataframe thead th {\n",
              "        text-align: right;\n",
              "    }\n",
              "</style>\n",
              "<table border=\"1\" class=\"dataframe\">\n",
              "  <thead>\n",
              "    <tr style=\"text-align: right;\">\n",
              "      <th></th>\n",
              "      <th>title</th>\n",
              "      <th>is_fake</th>\n",
              "    </tr>\n",
              "  </thead>\n",
              "  <tbody>\n",
              "    <tr>\n",
              "      <th>0</th>\n",
              "      <td>Роскомнадзор представил реестр сочетаний цвето...</td>\n",
              "      <td>1</td>\n",
              "    </tr>\n",
              "    <tr>\n",
              "      <th>1</th>\n",
              "      <td>Ночью под Минском на президентской горе Белара...</td>\n",
              "      <td>1</td>\n",
              "    </tr>\n",
              "    <tr>\n",
              "      <th>2</th>\n",
              "      <td>Бывший спичрайтер Юрия Лозы рассказал о трудно...</td>\n",
              "      <td>1</td>\n",
              "    </tr>\n",
              "    <tr>\n",
              "      <th>3</th>\n",
              "      <td>Сельская церковь, собравшая рекордно низкое ко...</td>\n",
              "      <td>1</td>\n",
              "    </tr>\n",
              "    <tr>\n",
              "      <th>4</th>\n",
              "      <td>Акции Google рухнули после объявления о переза...</td>\n",
              "      <td>0</td>\n",
              "    </tr>\n",
              "    <tr>\n",
              "      <th>...</th>\n",
              "      <td>...</td>\n",
              "      <td>...</td>\n",
              "    </tr>\n",
              "    <tr>\n",
              "      <th>995</th>\n",
              "      <td>Прокуратура заподозрила Явлинского в авторитар...</td>\n",
              "      <td>1</td>\n",
              "    </tr>\n",
              "    <tr>\n",
              "      <th>996</th>\n",
              "      <td>В День Победы стратегические ракетоносцы Ту-16...</td>\n",
              "      <td>1</td>\n",
              "    </tr>\n",
              "    <tr>\n",
              "      <th>997</th>\n",
              "      <td>СК возбудил дело против авиакомпании «Победа» ...</td>\n",
              "      <td>0</td>\n",
              "    </tr>\n",
              "    <tr>\n",
              "      <th>998</th>\n",
              "      <td>Криптомонетный двор Туркменистана выпустил юби...</td>\n",
              "      <td>1</td>\n",
              "    </tr>\n",
              "    <tr>\n",
              "      <th>999</th>\n",
              "      <td>Deutsche Bahn заплатит рекордный штраф за чтен...</td>\n",
              "      <td>1</td>\n",
              "    </tr>\n",
              "  </tbody>\n",
              "</table>\n",
              "<p>1000 rows × 2 columns</p>\n",
              "</div>\n",
              "      <button class=\"colab-df-convert\" onclick=\"convertToInteractive('df-fd63a26a-9081-497b-a021-d635cfa8f8de')\"\n",
              "              title=\"Convert this dataframe to an interactive table.\"\n",
              "              style=\"display:none;\">\n",
              "        \n",
              "  <svg xmlns=\"http://www.w3.org/2000/svg\" height=\"24px\"viewBox=\"0 0 24 24\"\n",
              "       width=\"24px\">\n",
              "    <path d=\"M0 0h24v24H0V0z\" fill=\"none\"/>\n",
              "    <path d=\"M18.56 5.44l.94 2.06.94-2.06 2.06-.94-2.06-.94-.94-2.06-.94 2.06-2.06.94zm-11 1L8.5 8.5l.94-2.06 2.06-.94-2.06-.94L8.5 2.5l-.94 2.06-2.06.94zm10 10l.94 2.06.94-2.06 2.06-.94-2.06-.94-.94-2.06-.94 2.06-2.06.94z\"/><path d=\"M17.41 7.96l-1.37-1.37c-.4-.4-.92-.59-1.43-.59-.52 0-1.04.2-1.43.59L10.3 9.45l-7.72 7.72c-.78.78-.78 2.05 0 2.83L4 21.41c.39.39.9.59 1.41.59.51 0 1.02-.2 1.41-.59l7.78-7.78 2.81-2.81c.8-.78.8-2.07 0-2.86zM5.41 20L4 18.59l7.72-7.72 1.47 1.35L5.41 20z\"/>\n",
              "  </svg>\n",
              "      </button>\n",
              "      \n",
              "  <style>\n",
              "    .colab-df-container {\n",
              "      display:flex;\n",
              "      flex-wrap:wrap;\n",
              "      gap: 12px;\n",
              "    }\n",
              "\n",
              "    .colab-df-convert {\n",
              "      background-color: #E8F0FE;\n",
              "      border: none;\n",
              "      border-radius: 50%;\n",
              "      cursor: pointer;\n",
              "      display: none;\n",
              "      fill: #1967D2;\n",
              "      height: 32px;\n",
              "      padding: 0 0 0 0;\n",
              "      width: 32px;\n",
              "    }\n",
              "\n",
              "    .colab-df-convert:hover {\n",
              "      background-color: #E2EBFA;\n",
              "      box-shadow: 0px 1px 2px rgba(60, 64, 67, 0.3), 0px 1px 3px 1px rgba(60, 64, 67, 0.15);\n",
              "      fill: #174EA6;\n",
              "    }\n",
              "\n",
              "    [theme=dark] .colab-df-convert {\n",
              "      background-color: #3B4455;\n",
              "      fill: #D2E3FC;\n",
              "    }\n",
              "\n",
              "    [theme=dark] .colab-df-convert:hover {\n",
              "      background-color: #434B5C;\n",
              "      box-shadow: 0px 1px 3px 1px rgba(0, 0, 0, 0.15);\n",
              "      filter: drop-shadow(0px 1px 2px rgba(0, 0, 0, 0.3));\n",
              "      fill: #FFFFFF;\n",
              "    }\n",
              "  </style>\n",
              "\n",
              "      <script>\n",
              "        const buttonEl =\n",
              "          document.querySelector('#df-fd63a26a-9081-497b-a021-d635cfa8f8de button.colab-df-convert');\n",
              "        buttonEl.style.display =\n",
              "          google.colab.kernel.accessAllowed ? 'block' : 'none';\n",
              "\n",
              "        async function convertToInteractive(key) {\n",
              "          const element = document.querySelector('#df-fd63a26a-9081-497b-a021-d635cfa8f8de');\n",
              "          const dataTable =\n",
              "            await google.colab.kernel.invokeFunction('convertToInteractive',\n",
              "                                                     [key], {});\n",
              "          if (!dataTable) return;\n",
              "\n",
              "          const docLinkHtml = 'Like what you see? Visit the ' +\n",
              "            '<a target=\"_blank\" href=https://colab.research.google.com/notebooks/data_table.ipynb>data table notebook</a>'\n",
              "            + ' to learn more about interactive tables.';\n",
              "          element.innerHTML = '';\n",
              "          dataTable['output_type'] = 'display_data';\n",
              "          await google.colab.output.renderOutput(dataTable, element);\n",
              "          const docLink = document.createElement('div');\n",
              "          docLink.innerHTML = docLinkHtml;\n",
              "          element.appendChild(docLink);\n",
              "        }\n",
              "      </script>\n",
              "    </div>\n",
              "  </div>\n",
              "  "
            ]
          },
          "metadata": {},
          "execution_count": 111
        }
      ]
    },
    {
      "cell_type": "code",
      "source": [
        "outputs.to_csv(\"predictions_labse.tsv\", sep=\"\\t\", columns=['title', 'is_fake'], index=False)"
      ],
      "metadata": {
        "id": "eKdZ6hlBmasM"
      },
      "execution_count": null,
      "outputs": []
    },
    {
      "cell_type": "markdown",
      "source": [
        "# **Ways to improve the performance**\n",
        "\n",
        "Generally, the choice of representation function (=embeddings) one of the most crutial. Here we used two strong models.\n",
        "\n",
        "Good representation function might neglect bad fitting of classifier - because it sufficient replect all detected features.\n",
        "\n",
        "But improvements might be done from the preprocessing stage.\n",
        "\n",
        "1. 6% of non-russian words can be translated into russian. \n",
        "2. Digits might be written with words, not letters.\n",
        "3. [generally, some stop words could be deleted, but in particular case these stop words do not have this prevailing spoiling role, because each news has considerably small amount of words]\n",
        "\n",
        "**BUT** *Obtained **0.85-0.9** F1 score without normalization seems to be enough.*\n",
        "\n",
        "[In case better performance is needed - better preprocessing could be applied]"
      ],
      "metadata": {
        "id": "PEs97jbgiabA"
      }
    },
    {
      "cell_type": "markdown",
      "source": [
        "\n",
        "\n",
        "---\n",
        "\n",
        "Comparison of two predictions:\n",
        "\n",
        "(just for interest)"
      ],
      "metadata": {
        "id": "gIzhWIszmwTG"
      }
    },
    {
      "cell_type": "code",
      "source": [
        "pred_labse = pd.read_csv(\"predictions_labse.tsv\", sep=\"\\t\")\n",
        "pred_sbert = pd.read_csv(\"predictions.tsv\", sep=\"\\t\")"
      ],
      "metadata": {
        "id": "KYw37wxhm3Lo"
      },
      "execution_count": null,
      "outputs": []
    },
    {
      "cell_type": "code",
      "source": [
        "print('% of mutually predicted titles is {0}'.format(sum(pred_labse['is_fake']==pred_sbert['is_fake'])/10))"
      ],
      "metadata": {
        "colab": {
          "base_uri": "https://localhost:8080/"
        },
        "id": "IscbbC4VnlZp",
        "outputId": "79c4df30-d0e5-4afc-f84a-2b7c5a4395b3"
      },
      "execution_count": null,
      "outputs": [
        {
          "output_type": "stream",
          "name": "stdout",
          "text": [
            "% of mutually predicted titles is 87.1\n"
          ]
        }
      ]
    }
  ],
  "metadata": {
    "colab": {
      "collapsed_sections": [],
      "name": "is_fake.ipynb",
      "provenance": []
    },
    "kernelspec": {
      "display_name": "Python 3",
      "name": "python3"
    },
    "language_info": {
      "name": "python"
    },
    "widgets": {
      "application/vnd.jupyter.widget-state+json": {
        "2a3dbca3a6614f99abe2f29c8f94cf22": {
          "model_module": "@jupyter-widgets/controls",
          "model_name": "HBoxModel",
          "model_module_version": "1.5.0",
          "state": {
            "_dom_classes": [],
            "_model_module": "@jupyter-widgets/controls",
            "_model_module_version": "1.5.0",
            "_model_name": "HBoxModel",
            "_view_count": null,
            "_view_module": "@jupyter-widgets/controls",
            "_view_module_version": "1.5.0",
            "_view_name": "HBoxView",
            "box_style": "",
            "children": [
              "IPY_MODEL_4e8d3f6b12564123877098e1491bd264",
              "IPY_MODEL_a686fad868864489bd874dc64a2fd197",
              "IPY_MODEL_70b75dd94f14447b9d8ff90b914e132f"
            ],
            "layout": "IPY_MODEL_6f904968b7fb4e23b58e7887ad9cd10a"
          }
        },
        "4e8d3f6b12564123877098e1491bd264": {
          "model_module": "@jupyter-widgets/controls",
          "model_name": "HTMLModel",
          "model_module_version": "1.5.0",
          "state": {
            "_dom_classes": [],
            "_model_module": "@jupyter-widgets/controls",
            "_model_module_version": "1.5.0",
            "_model_name": "HTMLModel",
            "_view_count": null,
            "_view_module": "@jupyter-widgets/controls",
            "_view_module_version": "1.5.0",
            "_view_name": "HTMLView",
            "description": "",
            "description_tooltip": null,
            "layout": "IPY_MODEL_f74e084455514d059d7890e8fd901b55",
            "placeholder": "​",
            "style": "IPY_MODEL_f1b0ad6644d74fccb598019f5355ab30",
            "value": "Downloading: 100%"
          }
        },
        "a686fad868864489bd874dc64a2fd197": {
          "model_module": "@jupyter-widgets/controls",
          "model_name": "FloatProgressModel",
          "model_module_version": "1.5.0",
          "state": {
            "_dom_classes": [],
            "_model_module": "@jupyter-widgets/controls",
            "_model_module_version": "1.5.0",
            "_model_name": "FloatProgressModel",
            "_view_count": null,
            "_view_module": "@jupyter-widgets/controls",
            "_view_module_version": "1.5.0",
            "_view_name": "ProgressView",
            "bar_style": "success",
            "description": "",
            "description_tooltip": null,
            "layout": "IPY_MODEL_e1a26afb856a4205b508821a35c7361b",
            "max": 331,
            "min": 0,
            "orientation": "horizontal",
            "style": "IPY_MODEL_a647094d89fd4ab0b479f0b358d6929d",
            "value": 331
          }
        },
        "70b75dd94f14447b9d8ff90b914e132f": {
          "model_module": "@jupyter-widgets/controls",
          "model_name": "HTMLModel",
          "model_module_version": "1.5.0",
          "state": {
            "_dom_classes": [],
            "_model_module": "@jupyter-widgets/controls",
            "_model_module_version": "1.5.0",
            "_model_name": "HTMLModel",
            "_view_count": null,
            "_view_module": "@jupyter-widgets/controls",
            "_view_module_version": "1.5.0",
            "_view_name": "HTMLView",
            "description": "",
            "description_tooltip": null,
            "layout": "IPY_MODEL_df1868019afb440a82a708cccd1aca9b",
            "placeholder": "​",
            "style": "IPY_MODEL_5f74d0721c4548cfab3f63a023ba5654",
            "value": " 331/331 [00:00&lt;00:00, 6.06kB/s]"
          }
        },
        "6f904968b7fb4e23b58e7887ad9cd10a": {
          "model_module": "@jupyter-widgets/base",
          "model_name": "LayoutModel",
          "model_module_version": "1.2.0",
          "state": {
            "_model_module": "@jupyter-widgets/base",
            "_model_module_version": "1.2.0",
            "_model_name": "LayoutModel",
            "_view_count": null,
            "_view_module": "@jupyter-widgets/base",
            "_view_module_version": "1.2.0",
            "_view_name": "LayoutView",
            "align_content": null,
            "align_items": null,
            "align_self": null,
            "border": null,
            "bottom": null,
            "display": null,
            "flex": null,
            "flex_flow": null,
            "grid_area": null,
            "grid_auto_columns": null,
            "grid_auto_flow": null,
            "grid_auto_rows": null,
            "grid_column": null,
            "grid_gap": null,
            "grid_row": null,
            "grid_template_areas": null,
            "grid_template_columns": null,
            "grid_template_rows": null,
            "height": null,
            "justify_content": null,
            "justify_items": null,
            "left": null,
            "margin": null,
            "max_height": null,
            "max_width": null,
            "min_height": null,
            "min_width": null,
            "object_fit": null,
            "object_position": null,
            "order": null,
            "overflow": null,
            "overflow_x": null,
            "overflow_y": null,
            "padding": null,
            "right": null,
            "top": null,
            "visibility": null,
            "width": null
          }
        },
        "f74e084455514d059d7890e8fd901b55": {
          "model_module": "@jupyter-widgets/base",
          "model_name": "LayoutModel",
          "model_module_version": "1.2.0",
          "state": {
            "_model_module": "@jupyter-widgets/base",
            "_model_module_version": "1.2.0",
            "_model_name": "LayoutModel",
            "_view_count": null,
            "_view_module": "@jupyter-widgets/base",
            "_view_module_version": "1.2.0",
            "_view_name": "LayoutView",
            "align_content": null,
            "align_items": null,
            "align_self": null,
            "border": null,
            "bottom": null,
            "display": null,
            "flex": null,
            "flex_flow": null,
            "grid_area": null,
            "grid_auto_columns": null,
            "grid_auto_flow": null,
            "grid_auto_rows": null,
            "grid_column": null,
            "grid_gap": null,
            "grid_row": null,
            "grid_template_areas": null,
            "grid_template_columns": null,
            "grid_template_rows": null,
            "height": null,
            "justify_content": null,
            "justify_items": null,
            "left": null,
            "margin": null,
            "max_height": null,
            "max_width": null,
            "min_height": null,
            "min_width": null,
            "object_fit": null,
            "object_position": null,
            "order": null,
            "overflow": null,
            "overflow_x": null,
            "overflow_y": null,
            "padding": null,
            "right": null,
            "top": null,
            "visibility": null,
            "width": null
          }
        },
        "f1b0ad6644d74fccb598019f5355ab30": {
          "model_module": "@jupyter-widgets/controls",
          "model_name": "DescriptionStyleModel",
          "model_module_version": "1.5.0",
          "state": {
            "_model_module": "@jupyter-widgets/controls",
            "_model_module_version": "1.5.0",
            "_model_name": "DescriptionStyleModel",
            "_view_count": null,
            "_view_module": "@jupyter-widgets/base",
            "_view_module_version": "1.2.0",
            "_view_name": "StyleView",
            "description_width": ""
          }
        },
        "e1a26afb856a4205b508821a35c7361b": {
          "model_module": "@jupyter-widgets/base",
          "model_name": "LayoutModel",
          "model_module_version": "1.2.0",
          "state": {
            "_model_module": "@jupyter-widgets/base",
            "_model_module_version": "1.2.0",
            "_model_name": "LayoutModel",
            "_view_count": null,
            "_view_module": "@jupyter-widgets/base",
            "_view_module_version": "1.2.0",
            "_view_name": "LayoutView",
            "align_content": null,
            "align_items": null,
            "align_self": null,
            "border": null,
            "bottom": null,
            "display": null,
            "flex": null,
            "flex_flow": null,
            "grid_area": null,
            "grid_auto_columns": null,
            "grid_auto_flow": null,
            "grid_auto_rows": null,
            "grid_column": null,
            "grid_gap": null,
            "grid_row": null,
            "grid_template_areas": null,
            "grid_template_columns": null,
            "grid_template_rows": null,
            "height": null,
            "justify_content": null,
            "justify_items": null,
            "left": null,
            "margin": null,
            "max_height": null,
            "max_width": null,
            "min_height": null,
            "min_width": null,
            "object_fit": null,
            "object_position": null,
            "order": null,
            "overflow": null,
            "overflow_x": null,
            "overflow_y": null,
            "padding": null,
            "right": null,
            "top": null,
            "visibility": null,
            "width": null
          }
        },
        "a647094d89fd4ab0b479f0b358d6929d": {
          "model_module": "@jupyter-widgets/controls",
          "model_name": "ProgressStyleModel",
          "model_module_version": "1.5.0",
          "state": {
            "_model_module": "@jupyter-widgets/controls",
            "_model_module_version": "1.5.0",
            "_model_name": "ProgressStyleModel",
            "_view_count": null,
            "_view_module": "@jupyter-widgets/base",
            "_view_module_version": "1.2.0",
            "_view_name": "StyleView",
            "bar_color": null,
            "description_width": ""
          }
        },
        "df1868019afb440a82a708cccd1aca9b": {
          "model_module": "@jupyter-widgets/base",
          "model_name": "LayoutModel",
          "model_module_version": "1.2.0",
          "state": {
            "_model_module": "@jupyter-widgets/base",
            "_model_module_version": "1.2.0",
            "_model_name": "LayoutModel",
            "_view_count": null,
            "_view_module": "@jupyter-widgets/base",
            "_view_module_version": "1.2.0",
            "_view_name": "LayoutView",
            "align_content": null,
            "align_items": null,
            "align_self": null,
            "border": null,
            "bottom": null,
            "display": null,
            "flex": null,
            "flex_flow": null,
            "grid_area": null,
            "grid_auto_columns": null,
            "grid_auto_flow": null,
            "grid_auto_rows": null,
            "grid_column": null,
            "grid_gap": null,
            "grid_row": null,
            "grid_template_areas": null,
            "grid_template_columns": null,
            "grid_template_rows": null,
            "height": null,
            "justify_content": null,
            "justify_items": null,
            "left": null,
            "margin": null,
            "max_height": null,
            "max_width": null,
            "min_height": null,
            "min_width": null,
            "object_fit": null,
            "object_position": null,
            "order": null,
            "overflow": null,
            "overflow_x": null,
            "overflow_y": null,
            "padding": null,
            "right": null,
            "top": null,
            "visibility": null,
            "width": null
          }
        },
        "5f74d0721c4548cfab3f63a023ba5654": {
          "model_module": "@jupyter-widgets/controls",
          "model_name": "DescriptionStyleModel",
          "model_module_version": "1.5.0",
          "state": {
            "_model_module": "@jupyter-widgets/controls",
            "_model_module_version": "1.5.0",
            "_model_name": "DescriptionStyleModel",
            "_view_count": null,
            "_view_module": "@jupyter-widgets/base",
            "_view_module_version": "1.2.0",
            "_view_name": "StyleView",
            "description_width": ""
          }
        },
        "a9ffe86b2101463f96e904283e5bf5b2": {
          "model_module": "@jupyter-widgets/controls",
          "model_name": "HBoxModel",
          "model_module_version": "1.5.0",
          "state": {
            "_dom_classes": [],
            "_model_module": "@jupyter-widgets/controls",
            "_model_module_version": "1.5.0",
            "_model_name": "HBoxModel",
            "_view_count": null,
            "_view_module": "@jupyter-widgets/controls",
            "_view_module_version": "1.5.0",
            "_view_name": "HBoxView",
            "box_style": "",
            "children": [
              "IPY_MODEL_da863e04d7084c789afc5db992182508",
              "IPY_MODEL_9f5fd448af4a49eda49be4a7e25fc4b1",
              "IPY_MODEL_79a75ba78e3146d2a1aafa94e7de120d"
            ],
            "layout": "IPY_MODEL_ca6d57bb721e485da0afb896d5d2301d"
          }
        },
        "da863e04d7084c789afc5db992182508": {
          "model_module": "@jupyter-widgets/controls",
          "model_name": "HTMLModel",
          "model_module_version": "1.5.0",
          "state": {
            "_dom_classes": [],
            "_model_module": "@jupyter-widgets/controls",
            "_model_module_version": "1.5.0",
            "_model_name": "HTMLModel",
            "_view_count": null,
            "_view_module": "@jupyter-widgets/controls",
            "_view_module_version": "1.5.0",
            "_view_name": "HTMLView",
            "description": "",
            "description_tooltip": null,
            "layout": "IPY_MODEL_b5f981730e1a466892f71131a06f83bd",
            "placeholder": "​",
            "style": "IPY_MODEL_a23484ace300481e81028707b027fdc3",
            "value": "Downloading: 100%"
          }
        },
        "9f5fd448af4a49eda49be4a7e25fc4b1": {
          "model_module": "@jupyter-widgets/controls",
          "model_name": "FloatProgressModel",
          "model_module_version": "1.5.0",
          "state": {
            "_dom_classes": [],
            "_model_module": "@jupyter-widgets/controls",
            "_model_module_version": "1.5.0",
            "_model_name": "FloatProgressModel",
            "_view_count": null,
            "_view_module": "@jupyter-widgets/controls",
            "_view_module_version": "1.5.0",
            "_view_name": "ProgressView",
            "bar_style": "success",
            "description": "",
            "description_tooltip": null,
            "layout": "IPY_MODEL_dcf5dee41a174944b321a47fd6f4abfb",
            "max": 752,
            "min": 0,
            "orientation": "horizontal",
            "style": "IPY_MODEL_977fa7e0e2744c63b7bbd65ecde95e8f",
            "value": 752
          }
        },
        "79a75ba78e3146d2a1aafa94e7de120d": {
          "model_module": "@jupyter-widgets/controls",
          "model_name": "HTMLModel",
          "model_module_version": "1.5.0",
          "state": {
            "_dom_classes": [],
            "_model_module": "@jupyter-widgets/controls",
            "_model_module_version": "1.5.0",
            "_model_name": "HTMLModel",
            "_view_count": null,
            "_view_module": "@jupyter-widgets/controls",
            "_view_module_version": "1.5.0",
            "_view_name": "HTMLView",
            "description": "",
            "description_tooltip": null,
            "layout": "IPY_MODEL_992720a8b71d409396ee3556b367b5cb",
            "placeholder": "​",
            "style": "IPY_MODEL_9aec28d8c45d496e86236a7391b6d84a",
            "value": " 752/752 [00:00&lt;00:00, 13.2kB/s]"
          }
        },
        "ca6d57bb721e485da0afb896d5d2301d": {
          "model_module": "@jupyter-widgets/base",
          "model_name": "LayoutModel",
          "model_module_version": "1.2.0",
          "state": {
            "_model_module": "@jupyter-widgets/base",
            "_model_module_version": "1.2.0",
            "_model_name": "LayoutModel",
            "_view_count": null,
            "_view_module": "@jupyter-widgets/base",
            "_view_module_version": "1.2.0",
            "_view_name": "LayoutView",
            "align_content": null,
            "align_items": null,
            "align_self": null,
            "border": null,
            "bottom": null,
            "display": null,
            "flex": null,
            "flex_flow": null,
            "grid_area": null,
            "grid_auto_columns": null,
            "grid_auto_flow": null,
            "grid_auto_rows": null,
            "grid_column": null,
            "grid_gap": null,
            "grid_row": null,
            "grid_template_areas": null,
            "grid_template_columns": null,
            "grid_template_rows": null,
            "height": null,
            "justify_content": null,
            "justify_items": null,
            "left": null,
            "margin": null,
            "max_height": null,
            "max_width": null,
            "min_height": null,
            "min_width": null,
            "object_fit": null,
            "object_position": null,
            "order": null,
            "overflow": null,
            "overflow_x": null,
            "overflow_y": null,
            "padding": null,
            "right": null,
            "top": null,
            "visibility": null,
            "width": null
          }
        },
        "b5f981730e1a466892f71131a06f83bd": {
          "model_module": "@jupyter-widgets/base",
          "model_name": "LayoutModel",
          "model_module_version": "1.2.0",
          "state": {
            "_model_module": "@jupyter-widgets/base",
            "_model_module_version": "1.2.0",
            "_model_name": "LayoutModel",
            "_view_count": null,
            "_view_module": "@jupyter-widgets/base",
            "_view_module_version": "1.2.0",
            "_view_name": "LayoutView",
            "align_content": null,
            "align_items": null,
            "align_self": null,
            "border": null,
            "bottom": null,
            "display": null,
            "flex": null,
            "flex_flow": null,
            "grid_area": null,
            "grid_auto_columns": null,
            "grid_auto_flow": null,
            "grid_auto_rows": null,
            "grid_column": null,
            "grid_gap": null,
            "grid_row": null,
            "grid_template_areas": null,
            "grid_template_columns": null,
            "grid_template_rows": null,
            "height": null,
            "justify_content": null,
            "justify_items": null,
            "left": null,
            "margin": null,
            "max_height": null,
            "max_width": null,
            "min_height": null,
            "min_width": null,
            "object_fit": null,
            "object_position": null,
            "order": null,
            "overflow": null,
            "overflow_x": null,
            "overflow_y": null,
            "padding": null,
            "right": null,
            "top": null,
            "visibility": null,
            "width": null
          }
        },
        "a23484ace300481e81028707b027fdc3": {
          "model_module": "@jupyter-widgets/controls",
          "model_name": "DescriptionStyleModel",
          "model_module_version": "1.5.0",
          "state": {
            "_model_module": "@jupyter-widgets/controls",
            "_model_module_version": "1.5.0",
            "_model_name": "DescriptionStyleModel",
            "_view_count": null,
            "_view_module": "@jupyter-widgets/base",
            "_view_module_version": "1.2.0",
            "_view_name": "StyleView",
            "description_width": ""
          }
        },
        "dcf5dee41a174944b321a47fd6f4abfb": {
          "model_module": "@jupyter-widgets/base",
          "model_name": "LayoutModel",
          "model_module_version": "1.2.0",
          "state": {
            "_model_module": "@jupyter-widgets/base",
            "_model_module_version": "1.2.0",
            "_model_name": "LayoutModel",
            "_view_count": null,
            "_view_module": "@jupyter-widgets/base",
            "_view_module_version": "1.2.0",
            "_view_name": "LayoutView",
            "align_content": null,
            "align_items": null,
            "align_self": null,
            "border": null,
            "bottom": null,
            "display": null,
            "flex": null,
            "flex_flow": null,
            "grid_area": null,
            "grid_auto_columns": null,
            "grid_auto_flow": null,
            "grid_auto_rows": null,
            "grid_column": null,
            "grid_gap": null,
            "grid_row": null,
            "grid_template_areas": null,
            "grid_template_columns": null,
            "grid_template_rows": null,
            "height": null,
            "justify_content": null,
            "justify_items": null,
            "left": null,
            "margin": null,
            "max_height": null,
            "max_width": null,
            "min_height": null,
            "min_width": null,
            "object_fit": null,
            "object_position": null,
            "order": null,
            "overflow": null,
            "overflow_x": null,
            "overflow_y": null,
            "padding": null,
            "right": null,
            "top": null,
            "visibility": null,
            "width": null
          }
        },
        "977fa7e0e2744c63b7bbd65ecde95e8f": {
          "model_module": "@jupyter-widgets/controls",
          "model_name": "ProgressStyleModel",
          "model_module_version": "1.5.0",
          "state": {
            "_model_module": "@jupyter-widgets/controls",
            "_model_module_version": "1.5.0",
            "_model_name": "ProgressStyleModel",
            "_view_count": null,
            "_view_module": "@jupyter-widgets/base",
            "_view_module_version": "1.2.0",
            "_view_name": "StyleView",
            "bar_color": null,
            "description_width": ""
          }
        },
        "992720a8b71d409396ee3556b367b5cb": {
          "model_module": "@jupyter-widgets/base",
          "model_name": "LayoutModel",
          "model_module_version": "1.2.0",
          "state": {
            "_model_module": "@jupyter-widgets/base",
            "_model_module_version": "1.2.0",
            "_model_name": "LayoutModel",
            "_view_count": null,
            "_view_module": "@jupyter-widgets/base",
            "_view_module_version": "1.2.0",
            "_view_name": "LayoutView",
            "align_content": null,
            "align_items": null,
            "align_self": null,
            "border": null,
            "bottom": null,
            "display": null,
            "flex": null,
            "flex_flow": null,
            "grid_area": null,
            "grid_auto_columns": null,
            "grid_auto_flow": null,
            "grid_auto_rows": null,
            "grid_column": null,
            "grid_gap": null,
            "grid_row": null,
            "grid_template_areas": null,
            "grid_template_columns": null,
            "grid_template_rows": null,
            "height": null,
            "justify_content": null,
            "justify_items": null,
            "left": null,
            "margin": null,
            "max_height": null,
            "max_width": null,
            "min_height": null,
            "min_width": null,
            "object_fit": null,
            "object_position": null,
            "order": null,
            "overflow": null,
            "overflow_x": null,
            "overflow_y": null,
            "padding": null,
            "right": null,
            "top": null,
            "visibility": null,
            "width": null
          }
        },
        "9aec28d8c45d496e86236a7391b6d84a": {
          "model_module": "@jupyter-widgets/controls",
          "model_name": "DescriptionStyleModel",
          "model_module_version": "1.5.0",
          "state": {
            "_model_module": "@jupyter-widgets/controls",
            "_model_module_version": "1.5.0",
            "_model_name": "DescriptionStyleModel",
            "_view_count": null,
            "_view_module": "@jupyter-widgets/base",
            "_view_module_version": "1.2.0",
            "_view_name": "StyleView",
            "description_width": ""
          }
        },
        "fb851682817f42f0859d52274fccff41": {
          "model_module": "@jupyter-widgets/controls",
          "model_name": "HBoxModel",
          "model_module_version": "1.5.0",
          "state": {
            "_dom_classes": [],
            "_model_module": "@jupyter-widgets/controls",
            "_model_module_version": "1.5.0",
            "_model_name": "HBoxModel",
            "_view_count": null,
            "_view_module": "@jupyter-widgets/controls",
            "_view_module_version": "1.5.0",
            "_view_name": "HBoxView",
            "box_style": "",
            "children": [
              "IPY_MODEL_d325356c8b4345129bf876bad65258da",
              "IPY_MODEL_d09180a0932a493d84a9212be188073c",
              "IPY_MODEL_cd86726db594444caf81fccb03700427"
            ],
            "layout": "IPY_MODEL_1ba403532cdc4179a9528cae9759037c"
          }
        },
        "d325356c8b4345129bf876bad65258da": {
          "model_module": "@jupyter-widgets/controls",
          "model_name": "HTMLModel",
          "model_module_version": "1.5.0",
          "state": {
            "_dom_classes": [],
            "_model_module": "@jupyter-widgets/controls",
            "_model_module_version": "1.5.0",
            "_model_name": "HTMLModel",
            "_view_count": null,
            "_view_module": "@jupyter-widgets/controls",
            "_view_module_version": "1.5.0",
            "_view_name": "HTMLView",
            "description": "",
            "description_tooltip": null,
            "layout": "IPY_MODEL_308b51ff85bd43758c23e48ba98bbe7e",
            "placeholder": "​",
            "style": "IPY_MODEL_56781699e1144c3fba30b5fc224b13f6",
            "value": "Downloading: 100%"
          }
        },
        "d09180a0932a493d84a9212be188073c": {
          "model_module": "@jupyter-widgets/controls",
          "model_name": "FloatProgressModel",
          "model_module_version": "1.5.0",
          "state": {
            "_dom_classes": [],
            "_model_module": "@jupyter-widgets/controls",
            "_model_module_version": "1.5.0",
            "_model_name": "FloatProgressModel",
            "_view_count": null,
            "_view_module": "@jupyter-widgets/controls",
            "_view_module_version": "1.5.0",
            "_view_name": "ProgressView",
            "bar_style": "success",
            "description": "",
            "description_tooltip": null,
            "layout": "IPY_MODEL_84bc92f73bcb40a2ba917b7c4a65688c",
            "max": 1780720,
            "min": 0,
            "orientation": "horizontal",
            "style": "IPY_MODEL_97df9da2fc184825952f4f6a6623b1fd",
            "value": 1780720
          }
        },
        "cd86726db594444caf81fccb03700427": {
          "model_module": "@jupyter-widgets/controls",
          "model_name": "HTMLModel",
          "model_module_version": "1.5.0",
          "state": {
            "_dom_classes": [],
            "_model_module": "@jupyter-widgets/controls",
            "_model_module_version": "1.5.0",
            "_model_name": "HTMLModel",
            "_view_count": null,
            "_view_module": "@jupyter-widgets/controls",
            "_view_module_version": "1.5.0",
            "_view_name": "HTMLView",
            "description": "",
            "description_tooltip": null,
            "layout": "IPY_MODEL_81b7142f7d98454480c1125393f29f69",
            "placeholder": "​",
            "style": "IPY_MODEL_d67ccf9e4c054bc399850aad5295b179",
            "value": " 1.70M/1.70M [00:00&lt;00:00, 2.99MB/s]"
          }
        },
        "1ba403532cdc4179a9528cae9759037c": {
          "model_module": "@jupyter-widgets/base",
          "model_name": "LayoutModel",
          "model_module_version": "1.2.0",
          "state": {
            "_model_module": "@jupyter-widgets/base",
            "_model_module_version": "1.2.0",
            "_model_name": "LayoutModel",
            "_view_count": null,
            "_view_module": "@jupyter-widgets/base",
            "_view_module_version": "1.2.0",
            "_view_name": "LayoutView",
            "align_content": null,
            "align_items": null,
            "align_self": null,
            "border": null,
            "bottom": null,
            "display": null,
            "flex": null,
            "flex_flow": null,
            "grid_area": null,
            "grid_auto_columns": null,
            "grid_auto_flow": null,
            "grid_auto_rows": null,
            "grid_column": null,
            "grid_gap": null,
            "grid_row": null,
            "grid_template_areas": null,
            "grid_template_columns": null,
            "grid_template_rows": null,
            "height": null,
            "justify_content": null,
            "justify_items": null,
            "left": null,
            "margin": null,
            "max_height": null,
            "max_width": null,
            "min_height": null,
            "min_width": null,
            "object_fit": null,
            "object_position": null,
            "order": null,
            "overflow": null,
            "overflow_x": null,
            "overflow_y": null,
            "padding": null,
            "right": null,
            "top": null,
            "visibility": null,
            "width": null
          }
        },
        "308b51ff85bd43758c23e48ba98bbe7e": {
          "model_module": "@jupyter-widgets/base",
          "model_name": "LayoutModel",
          "model_module_version": "1.2.0",
          "state": {
            "_model_module": "@jupyter-widgets/base",
            "_model_module_version": "1.2.0",
            "_model_name": "LayoutModel",
            "_view_count": null,
            "_view_module": "@jupyter-widgets/base",
            "_view_module_version": "1.2.0",
            "_view_name": "LayoutView",
            "align_content": null,
            "align_items": null,
            "align_self": null,
            "border": null,
            "bottom": null,
            "display": null,
            "flex": null,
            "flex_flow": null,
            "grid_area": null,
            "grid_auto_columns": null,
            "grid_auto_flow": null,
            "grid_auto_rows": null,
            "grid_column": null,
            "grid_gap": null,
            "grid_row": null,
            "grid_template_areas": null,
            "grid_template_columns": null,
            "grid_template_rows": null,
            "height": null,
            "justify_content": null,
            "justify_items": null,
            "left": null,
            "margin": null,
            "max_height": null,
            "max_width": null,
            "min_height": null,
            "min_width": null,
            "object_fit": null,
            "object_position": null,
            "order": null,
            "overflow": null,
            "overflow_x": null,
            "overflow_y": null,
            "padding": null,
            "right": null,
            "top": null,
            "visibility": null,
            "width": null
          }
        },
        "56781699e1144c3fba30b5fc224b13f6": {
          "model_module": "@jupyter-widgets/controls",
          "model_name": "DescriptionStyleModel",
          "model_module_version": "1.5.0",
          "state": {
            "_model_module": "@jupyter-widgets/controls",
            "_model_module_version": "1.5.0",
            "_model_name": "DescriptionStyleModel",
            "_view_count": null,
            "_view_module": "@jupyter-widgets/base",
            "_view_module_version": "1.2.0",
            "_view_name": "StyleView",
            "description_width": ""
          }
        },
        "84bc92f73bcb40a2ba917b7c4a65688c": {
          "model_module": "@jupyter-widgets/base",
          "model_name": "LayoutModel",
          "model_module_version": "1.2.0",
          "state": {
            "_model_module": "@jupyter-widgets/base",
            "_model_module_version": "1.2.0",
            "_model_name": "LayoutModel",
            "_view_count": null,
            "_view_module": "@jupyter-widgets/base",
            "_view_module_version": "1.2.0",
            "_view_name": "LayoutView",
            "align_content": null,
            "align_items": null,
            "align_self": null,
            "border": null,
            "bottom": null,
            "display": null,
            "flex": null,
            "flex_flow": null,
            "grid_area": null,
            "grid_auto_columns": null,
            "grid_auto_flow": null,
            "grid_auto_rows": null,
            "grid_column": null,
            "grid_gap": null,
            "grid_row": null,
            "grid_template_areas": null,
            "grid_template_columns": null,
            "grid_template_rows": null,
            "height": null,
            "justify_content": null,
            "justify_items": null,
            "left": null,
            "margin": null,
            "max_height": null,
            "max_width": null,
            "min_height": null,
            "min_width": null,
            "object_fit": null,
            "object_position": null,
            "order": null,
            "overflow": null,
            "overflow_x": null,
            "overflow_y": null,
            "padding": null,
            "right": null,
            "top": null,
            "visibility": null,
            "width": null
          }
        },
        "97df9da2fc184825952f4f6a6623b1fd": {
          "model_module": "@jupyter-widgets/controls",
          "model_name": "ProgressStyleModel",
          "model_module_version": "1.5.0",
          "state": {
            "_model_module": "@jupyter-widgets/controls",
            "_model_module_version": "1.5.0",
            "_model_name": "ProgressStyleModel",
            "_view_count": null,
            "_view_module": "@jupyter-widgets/base",
            "_view_module_version": "1.2.0",
            "_view_name": "StyleView",
            "bar_color": null,
            "description_width": ""
          }
        },
        "81b7142f7d98454480c1125393f29f69": {
          "model_module": "@jupyter-widgets/base",
          "model_name": "LayoutModel",
          "model_module_version": "1.2.0",
          "state": {
            "_model_module": "@jupyter-widgets/base",
            "_model_module_version": "1.2.0",
            "_model_name": "LayoutModel",
            "_view_count": null,
            "_view_module": "@jupyter-widgets/base",
            "_view_module_version": "1.2.0",
            "_view_name": "LayoutView",
            "align_content": null,
            "align_items": null,
            "align_self": null,
            "border": null,
            "bottom": null,
            "display": null,
            "flex": null,
            "flex_flow": null,
            "grid_area": null,
            "grid_auto_columns": null,
            "grid_auto_flow": null,
            "grid_auto_rows": null,
            "grid_column": null,
            "grid_gap": null,
            "grid_row": null,
            "grid_template_areas": null,
            "grid_template_columns": null,
            "grid_template_rows": null,
            "height": null,
            "justify_content": null,
            "justify_items": null,
            "left": null,
            "margin": null,
            "max_height": null,
            "max_width": null,
            "min_height": null,
            "min_width": null,
            "object_fit": null,
            "object_position": null,
            "order": null,
            "overflow": null,
            "overflow_x": null,
            "overflow_y": null,
            "padding": null,
            "right": null,
            "top": null,
            "visibility": null,
            "width": null
          }
        },
        "d67ccf9e4c054bc399850aad5295b179": {
          "model_module": "@jupyter-widgets/controls",
          "model_name": "DescriptionStyleModel",
          "model_module_version": "1.5.0",
          "state": {
            "_model_module": "@jupyter-widgets/controls",
            "_model_module_version": "1.5.0",
            "_model_name": "DescriptionStyleModel",
            "_view_count": null,
            "_view_module": "@jupyter-widgets/base",
            "_view_module_version": "1.2.0",
            "_view_name": "StyleView",
            "description_width": ""
          }
        },
        "2849e0132e1c4d0a991073975c8a60b3": {
          "model_module": "@jupyter-widgets/controls",
          "model_name": "HBoxModel",
          "model_module_version": "1.5.0",
          "state": {
            "_dom_classes": [],
            "_model_module": "@jupyter-widgets/controls",
            "_model_module_version": "1.5.0",
            "_model_name": "HBoxModel",
            "_view_count": null,
            "_view_module": "@jupyter-widgets/controls",
            "_view_module_version": "1.5.0",
            "_view_name": "HBoxView",
            "box_style": "",
            "children": [
              "IPY_MODEL_a72d9de3526944e28444cb7e0f2cec17",
              "IPY_MODEL_d2238e22f3bb4e82b63688413a7aa376",
              "IPY_MODEL_c3605aa4e8ca4d65b306db70a89b5771"
            ],
            "layout": "IPY_MODEL_0300f5f731d34cbaae32eab13f1b5478"
          }
        },
        "a72d9de3526944e28444cb7e0f2cec17": {
          "model_module": "@jupyter-widgets/controls",
          "model_name": "HTMLModel",
          "model_module_version": "1.5.0",
          "state": {
            "_dom_classes": [],
            "_model_module": "@jupyter-widgets/controls",
            "_model_module_version": "1.5.0",
            "_model_name": "HTMLModel",
            "_view_count": null,
            "_view_module": "@jupyter-widgets/controls",
            "_view_module_version": "1.5.0",
            "_view_name": "HTMLView",
            "description": "",
            "description_tooltip": null,
            "layout": "IPY_MODEL_fc4d2abbab154bb58d4dbf303b78f6db",
            "placeholder": "​",
            "style": "IPY_MODEL_995581842a4c4d9aa161dd1d52cc62ac",
            "value": "Downloading: 100%"
          }
        },
        "d2238e22f3bb4e82b63688413a7aa376": {
          "model_module": "@jupyter-widgets/controls",
          "model_name": "FloatProgressModel",
          "model_module_version": "1.5.0",
          "state": {
            "_dom_classes": [],
            "_model_module": "@jupyter-widgets/controls",
            "_model_module_version": "1.5.0",
            "_model_name": "FloatProgressModel",
            "_view_count": null,
            "_view_module": "@jupyter-widgets/controls",
            "_view_module_version": "1.5.0",
            "_view_name": "ProgressView",
            "bar_style": "success",
            "description": "",
            "description_tooltip": null,
            "layout": "IPY_MODEL_164c8f82c0f34195947bc4e5e122680c",
            "max": 112,
            "min": 0,
            "orientation": "horizontal",
            "style": "IPY_MODEL_ffc9a1c2aef7488bb82195ee84aa1643",
            "value": 112
          }
        },
        "c3605aa4e8ca4d65b306db70a89b5771": {
          "model_module": "@jupyter-widgets/controls",
          "model_name": "HTMLModel",
          "model_module_version": "1.5.0",
          "state": {
            "_dom_classes": [],
            "_model_module": "@jupyter-widgets/controls",
            "_model_module_version": "1.5.0",
            "_model_name": "HTMLModel",
            "_view_count": null,
            "_view_module": "@jupyter-widgets/controls",
            "_view_module_version": "1.5.0",
            "_view_name": "HTMLView",
            "description": "",
            "description_tooltip": null,
            "layout": "IPY_MODEL_fd4fbafa7f5b4f2581bfcb15f05aa085",
            "placeholder": "​",
            "style": "IPY_MODEL_9abe3a5c661546148ee82e2dd9f1c320",
            "value": " 112/112 [00:00&lt;00:00, 2.70kB/s]"
          }
        },
        "0300f5f731d34cbaae32eab13f1b5478": {
          "model_module": "@jupyter-widgets/base",
          "model_name": "LayoutModel",
          "model_module_version": "1.2.0",
          "state": {
            "_model_module": "@jupyter-widgets/base",
            "_model_module_version": "1.2.0",
            "_model_name": "LayoutModel",
            "_view_count": null,
            "_view_module": "@jupyter-widgets/base",
            "_view_module_version": "1.2.0",
            "_view_name": "LayoutView",
            "align_content": null,
            "align_items": null,
            "align_self": null,
            "border": null,
            "bottom": null,
            "display": null,
            "flex": null,
            "flex_flow": null,
            "grid_area": null,
            "grid_auto_columns": null,
            "grid_auto_flow": null,
            "grid_auto_rows": null,
            "grid_column": null,
            "grid_gap": null,
            "grid_row": null,
            "grid_template_areas": null,
            "grid_template_columns": null,
            "grid_template_rows": null,
            "height": null,
            "justify_content": null,
            "justify_items": null,
            "left": null,
            "margin": null,
            "max_height": null,
            "max_width": null,
            "min_height": null,
            "min_width": null,
            "object_fit": null,
            "object_position": null,
            "order": null,
            "overflow": null,
            "overflow_x": null,
            "overflow_y": null,
            "padding": null,
            "right": null,
            "top": null,
            "visibility": null,
            "width": null
          }
        },
        "fc4d2abbab154bb58d4dbf303b78f6db": {
          "model_module": "@jupyter-widgets/base",
          "model_name": "LayoutModel",
          "model_module_version": "1.2.0",
          "state": {
            "_model_module": "@jupyter-widgets/base",
            "_model_module_version": "1.2.0",
            "_model_name": "LayoutModel",
            "_view_count": null,
            "_view_module": "@jupyter-widgets/base",
            "_view_module_version": "1.2.0",
            "_view_name": "LayoutView",
            "align_content": null,
            "align_items": null,
            "align_self": null,
            "border": null,
            "bottom": null,
            "display": null,
            "flex": null,
            "flex_flow": null,
            "grid_area": null,
            "grid_auto_columns": null,
            "grid_auto_flow": null,
            "grid_auto_rows": null,
            "grid_column": null,
            "grid_gap": null,
            "grid_row": null,
            "grid_template_areas": null,
            "grid_template_columns": null,
            "grid_template_rows": null,
            "height": null,
            "justify_content": null,
            "justify_items": null,
            "left": null,
            "margin": null,
            "max_height": null,
            "max_width": null,
            "min_height": null,
            "min_width": null,
            "object_fit": null,
            "object_position": null,
            "order": null,
            "overflow": null,
            "overflow_x": null,
            "overflow_y": null,
            "padding": null,
            "right": null,
            "top": null,
            "visibility": null,
            "width": null
          }
        },
        "995581842a4c4d9aa161dd1d52cc62ac": {
          "model_module": "@jupyter-widgets/controls",
          "model_name": "DescriptionStyleModel",
          "model_module_version": "1.5.0",
          "state": {
            "_model_module": "@jupyter-widgets/controls",
            "_model_module_version": "1.5.0",
            "_model_name": "DescriptionStyleModel",
            "_view_count": null,
            "_view_module": "@jupyter-widgets/base",
            "_view_module_version": "1.2.0",
            "_view_name": "StyleView",
            "description_width": ""
          }
        },
        "164c8f82c0f34195947bc4e5e122680c": {
          "model_module": "@jupyter-widgets/base",
          "model_name": "LayoutModel",
          "model_module_version": "1.2.0",
          "state": {
            "_model_module": "@jupyter-widgets/base",
            "_model_module_version": "1.2.0",
            "_model_name": "LayoutModel",
            "_view_count": null,
            "_view_module": "@jupyter-widgets/base",
            "_view_module_version": "1.2.0",
            "_view_name": "LayoutView",
            "align_content": null,
            "align_items": null,
            "align_self": null,
            "border": null,
            "bottom": null,
            "display": null,
            "flex": null,
            "flex_flow": null,
            "grid_area": null,
            "grid_auto_columns": null,
            "grid_auto_flow": null,
            "grid_auto_rows": null,
            "grid_column": null,
            "grid_gap": null,
            "grid_row": null,
            "grid_template_areas": null,
            "grid_template_columns": null,
            "grid_template_rows": null,
            "height": null,
            "justify_content": null,
            "justify_items": null,
            "left": null,
            "margin": null,
            "max_height": null,
            "max_width": null,
            "min_height": null,
            "min_width": null,
            "object_fit": null,
            "object_position": null,
            "order": null,
            "overflow": null,
            "overflow_x": null,
            "overflow_y": null,
            "padding": null,
            "right": null,
            "top": null,
            "visibility": null,
            "width": null
          }
        },
        "ffc9a1c2aef7488bb82195ee84aa1643": {
          "model_module": "@jupyter-widgets/controls",
          "model_name": "ProgressStyleModel",
          "model_module_version": "1.5.0",
          "state": {
            "_model_module": "@jupyter-widgets/controls",
            "_model_module_version": "1.5.0",
            "_model_name": "ProgressStyleModel",
            "_view_count": null,
            "_view_module": "@jupyter-widgets/base",
            "_view_module_version": "1.2.0",
            "_view_name": "StyleView",
            "bar_color": null,
            "description_width": ""
          }
        },
        "fd4fbafa7f5b4f2581bfcb15f05aa085": {
          "model_module": "@jupyter-widgets/base",
          "model_name": "LayoutModel",
          "model_module_version": "1.2.0",
          "state": {
            "_model_module": "@jupyter-widgets/base",
            "_model_module_version": "1.2.0",
            "_model_name": "LayoutModel",
            "_view_count": null,
            "_view_module": "@jupyter-widgets/base",
            "_view_module_version": "1.2.0",
            "_view_name": "LayoutView",
            "align_content": null,
            "align_items": null,
            "align_self": null,
            "border": null,
            "bottom": null,
            "display": null,
            "flex": null,
            "flex_flow": null,
            "grid_area": null,
            "grid_auto_columns": null,
            "grid_auto_flow": null,
            "grid_auto_rows": null,
            "grid_column": null,
            "grid_gap": null,
            "grid_row": null,
            "grid_template_areas": null,
            "grid_template_columns": null,
            "grid_template_rows": null,
            "height": null,
            "justify_content": null,
            "justify_items": null,
            "left": null,
            "margin": null,
            "max_height": null,
            "max_width": null,
            "min_height": null,
            "min_width": null,
            "object_fit": null,
            "object_position": null,
            "order": null,
            "overflow": null,
            "overflow_x": null,
            "overflow_y": null,
            "padding": null,
            "right": null,
            "top": null,
            "visibility": null,
            "width": null
          }
        },
        "9abe3a5c661546148ee82e2dd9f1c320": {
          "model_module": "@jupyter-widgets/controls",
          "model_name": "DescriptionStyleModel",
          "model_module_version": "1.5.0",
          "state": {
            "_model_module": "@jupyter-widgets/controls",
            "_model_module_version": "1.5.0",
            "_model_name": "DescriptionStyleModel",
            "_view_count": null,
            "_view_module": "@jupyter-widgets/base",
            "_view_module_version": "1.2.0",
            "_view_name": "StyleView",
            "description_width": ""
          }
        },
        "51ac1885c449412892b731f92bd39484": {
          "model_module": "@jupyter-widgets/controls",
          "model_name": "HBoxModel",
          "model_module_version": "1.5.0",
          "state": {
            "_dom_classes": [],
            "_model_module": "@jupyter-widgets/controls",
            "_model_module_version": "1.5.0",
            "_model_name": "HBoxModel",
            "_view_count": null,
            "_view_module": "@jupyter-widgets/controls",
            "_view_module_version": "1.5.0",
            "_view_name": "HBoxView",
            "box_style": "",
            "children": [
              "IPY_MODEL_f1ce51ebec9b43b6b70a9516d1cd9b8f",
              "IPY_MODEL_f7a57b91901241efb51c985b6a796af2",
              "IPY_MODEL_859d1ecb362a44f18827eff4ef321b1e"
            ],
            "layout": "IPY_MODEL_1bf7ae6adefc42aea8bc3066bdce4626"
          }
        },
        "f1ce51ebec9b43b6b70a9516d1cd9b8f": {
          "model_module": "@jupyter-widgets/controls",
          "model_name": "HTMLModel",
          "model_module_version": "1.5.0",
          "state": {
            "_dom_classes": [],
            "_model_module": "@jupyter-widgets/controls",
            "_model_module_version": "1.5.0",
            "_model_name": "HTMLModel",
            "_view_count": null,
            "_view_module": "@jupyter-widgets/controls",
            "_view_module_version": "1.5.0",
            "_view_name": "HTMLView",
            "description": "",
            "description_tooltip": null,
            "layout": "IPY_MODEL_f124e7845d2b4404bb2fd514871ec104",
            "placeholder": "​",
            "style": "IPY_MODEL_1986e27d1d80470aa77f655e081cd911",
            "value": "Downloading: 100%"
          }
        },
        "f7a57b91901241efb51c985b6a796af2": {
          "model_module": "@jupyter-widgets/controls",
          "model_name": "FloatProgressModel",
          "model_module_version": "1.5.0",
          "state": {
            "_dom_classes": [],
            "_model_module": "@jupyter-widgets/controls",
            "_model_module_version": "1.5.0",
            "_model_name": "FloatProgressModel",
            "_view_count": null,
            "_view_module": "@jupyter-widgets/controls",
            "_view_module_version": "1.5.0",
            "_view_name": "ProgressView",
            "bar_style": "success",
            "description": "",
            "description_tooltip": null,
            "layout": "IPY_MODEL_706828a0079d46bb90254500243080a3",
            "max": 1707796287,
            "min": 0,
            "orientation": "horizontal",
            "style": "IPY_MODEL_92d3ad85a4784c9999b3e8548ea2bd04",
            "value": 1707796287
          }
        },
        "859d1ecb362a44f18827eff4ef321b1e": {
          "model_module": "@jupyter-widgets/controls",
          "model_name": "HTMLModel",
          "model_module_version": "1.5.0",
          "state": {
            "_dom_classes": [],
            "_model_module": "@jupyter-widgets/controls",
            "_model_module_version": "1.5.0",
            "_model_name": "HTMLModel",
            "_view_count": null,
            "_view_module": "@jupyter-widgets/controls",
            "_view_module_version": "1.5.0",
            "_view_name": "HTMLView",
            "description": "",
            "description_tooltip": null,
            "layout": "IPY_MODEL_f579b7da06a94d65bde02ce7a32a94ad",
            "placeholder": "​",
            "style": "IPY_MODEL_4d8563bf90a24af787df7534da5eb0f2",
            "value": " 1.59G/1.59G [01:15&lt;00:00, 19.3MB/s]"
          }
        },
        "1bf7ae6adefc42aea8bc3066bdce4626": {
          "model_module": "@jupyter-widgets/base",
          "model_name": "LayoutModel",
          "model_module_version": "1.2.0",
          "state": {
            "_model_module": "@jupyter-widgets/base",
            "_model_module_version": "1.2.0",
            "_model_name": "LayoutModel",
            "_view_count": null,
            "_view_module": "@jupyter-widgets/base",
            "_view_module_version": "1.2.0",
            "_view_name": "LayoutView",
            "align_content": null,
            "align_items": null,
            "align_self": null,
            "border": null,
            "bottom": null,
            "display": null,
            "flex": null,
            "flex_flow": null,
            "grid_area": null,
            "grid_auto_columns": null,
            "grid_auto_flow": null,
            "grid_auto_rows": null,
            "grid_column": null,
            "grid_gap": null,
            "grid_row": null,
            "grid_template_areas": null,
            "grid_template_columns": null,
            "grid_template_rows": null,
            "height": null,
            "justify_content": null,
            "justify_items": null,
            "left": null,
            "margin": null,
            "max_height": null,
            "max_width": null,
            "min_height": null,
            "min_width": null,
            "object_fit": null,
            "object_position": null,
            "order": null,
            "overflow": null,
            "overflow_x": null,
            "overflow_y": null,
            "padding": null,
            "right": null,
            "top": null,
            "visibility": null,
            "width": null
          }
        },
        "f124e7845d2b4404bb2fd514871ec104": {
          "model_module": "@jupyter-widgets/base",
          "model_name": "LayoutModel",
          "model_module_version": "1.2.0",
          "state": {
            "_model_module": "@jupyter-widgets/base",
            "_model_module_version": "1.2.0",
            "_model_name": "LayoutModel",
            "_view_count": null,
            "_view_module": "@jupyter-widgets/base",
            "_view_module_version": "1.2.0",
            "_view_name": "LayoutView",
            "align_content": null,
            "align_items": null,
            "align_self": null,
            "border": null,
            "bottom": null,
            "display": null,
            "flex": null,
            "flex_flow": null,
            "grid_area": null,
            "grid_auto_columns": null,
            "grid_auto_flow": null,
            "grid_auto_rows": null,
            "grid_column": null,
            "grid_gap": null,
            "grid_row": null,
            "grid_template_areas": null,
            "grid_template_columns": null,
            "grid_template_rows": null,
            "height": null,
            "justify_content": null,
            "justify_items": null,
            "left": null,
            "margin": null,
            "max_height": null,
            "max_width": null,
            "min_height": null,
            "min_width": null,
            "object_fit": null,
            "object_position": null,
            "order": null,
            "overflow": null,
            "overflow_x": null,
            "overflow_y": null,
            "padding": null,
            "right": null,
            "top": null,
            "visibility": null,
            "width": null
          }
        },
        "1986e27d1d80470aa77f655e081cd911": {
          "model_module": "@jupyter-widgets/controls",
          "model_name": "DescriptionStyleModel",
          "model_module_version": "1.5.0",
          "state": {
            "_model_module": "@jupyter-widgets/controls",
            "_model_module_version": "1.5.0",
            "_model_name": "DescriptionStyleModel",
            "_view_count": null,
            "_view_module": "@jupyter-widgets/base",
            "_view_module_version": "1.2.0",
            "_view_name": "StyleView",
            "description_width": ""
          }
        },
        "706828a0079d46bb90254500243080a3": {
          "model_module": "@jupyter-widgets/base",
          "model_name": "LayoutModel",
          "model_module_version": "1.2.0",
          "state": {
            "_model_module": "@jupyter-widgets/base",
            "_model_module_version": "1.2.0",
            "_model_name": "LayoutModel",
            "_view_count": null,
            "_view_module": "@jupyter-widgets/base",
            "_view_module_version": "1.2.0",
            "_view_name": "LayoutView",
            "align_content": null,
            "align_items": null,
            "align_self": null,
            "border": null,
            "bottom": null,
            "display": null,
            "flex": null,
            "flex_flow": null,
            "grid_area": null,
            "grid_auto_columns": null,
            "grid_auto_flow": null,
            "grid_auto_rows": null,
            "grid_column": null,
            "grid_gap": null,
            "grid_row": null,
            "grid_template_areas": null,
            "grid_template_columns": null,
            "grid_template_rows": null,
            "height": null,
            "justify_content": null,
            "justify_items": null,
            "left": null,
            "margin": null,
            "max_height": null,
            "max_width": null,
            "min_height": null,
            "min_width": null,
            "object_fit": null,
            "object_position": null,
            "order": null,
            "overflow": null,
            "overflow_x": null,
            "overflow_y": null,
            "padding": null,
            "right": null,
            "top": null,
            "visibility": null,
            "width": null
          }
        },
        "92d3ad85a4784c9999b3e8548ea2bd04": {
          "model_module": "@jupyter-widgets/controls",
          "model_name": "ProgressStyleModel",
          "model_module_version": "1.5.0",
          "state": {
            "_model_module": "@jupyter-widgets/controls",
            "_model_module_version": "1.5.0",
            "_model_name": "ProgressStyleModel",
            "_view_count": null,
            "_view_module": "@jupyter-widgets/base",
            "_view_module_version": "1.2.0",
            "_view_name": "StyleView",
            "bar_color": null,
            "description_width": ""
          }
        },
        "f579b7da06a94d65bde02ce7a32a94ad": {
          "model_module": "@jupyter-widgets/base",
          "model_name": "LayoutModel",
          "model_module_version": "1.2.0",
          "state": {
            "_model_module": "@jupyter-widgets/base",
            "_model_module_version": "1.2.0",
            "_model_name": "LayoutModel",
            "_view_count": null,
            "_view_module": "@jupyter-widgets/base",
            "_view_module_version": "1.2.0",
            "_view_name": "LayoutView",
            "align_content": null,
            "align_items": null,
            "align_self": null,
            "border": null,
            "bottom": null,
            "display": null,
            "flex": null,
            "flex_flow": null,
            "grid_area": null,
            "grid_auto_columns": null,
            "grid_auto_flow": null,
            "grid_auto_rows": null,
            "grid_column": null,
            "grid_gap": null,
            "grid_row": null,
            "grid_template_areas": null,
            "grid_template_columns": null,
            "grid_template_rows": null,
            "height": null,
            "justify_content": null,
            "justify_items": null,
            "left": null,
            "margin": null,
            "max_height": null,
            "max_width": null,
            "min_height": null,
            "min_width": null,
            "object_fit": null,
            "object_position": null,
            "order": null,
            "overflow": null,
            "overflow_x": null,
            "overflow_y": null,
            "padding": null,
            "right": null,
            "top": null,
            "visibility": null,
            "width": null
          }
        },
        "4d8563bf90a24af787df7534da5eb0f2": {
          "model_module": "@jupyter-widgets/controls",
          "model_name": "DescriptionStyleModel",
          "model_module_version": "1.5.0",
          "state": {
            "_model_module": "@jupyter-widgets/controls",
            "_model_module_version": "1.5.0",
            "_model_name": "DescriptionStyleModel",
            "_view_count": null,
            "_view_module": "@jupyter-widgets/base",
            "_view_module_version": "1.2.0",
            "_view_name": "StyleView",
            "description_width": ""
          }
        }
      }
    }
  },
  "nbformat": 4,
  "nbformat_minor": 0
}